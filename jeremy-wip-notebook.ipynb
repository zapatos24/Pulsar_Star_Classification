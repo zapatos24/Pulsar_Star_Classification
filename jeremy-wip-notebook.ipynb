{
 "cells": [
  {
   "cell_type": "markdown",
   "metadata": {},
   "source": [
    "# Mod 6 Final Project"
   ]
  },
  {
   "cell_type": "markdown",
   "metadata": {},
   "source": [
    "Jeremy Owens, Bridget Boakye"
   ]
  },
  {
   "cell_type": "markdown",
   "metadata": {},
   "source": [
    "### Problem Statement:"
   ]
  },
  {
   "cell_type": "markdown",
   "metadata": {},
   "source": [
    "We need to find Pulsars, know where to focus telescopes for Pulsar analysis"
   ]
  },
  {
   "cell_type": "markdown",
   "metadata": {},
   "source": [
    "## Import"
   ]
  },
  {
   "cell_type": "code",
   "execution_count": 1,
   "metadata": {},
   "outputs": [
    {
     "name": "stderr",
     "output_type": "stream",
     "text": [
      "Using TensorFlow backend.\n"
     ]
    }
   ],
   "source": [
    "import pandas as pd\n",
    "import numpy as np\n",
    "import matplotlib.pyplot as plt\n",
    "%matplotlib inline\n",
    "import seaborn as sns\n",
    "sns.set_style('darkgrid')\n",
    "from sklearn.preprocessing import StandardScaler\n",
    "from sklearn.model_selection import train_test_split, GridSearchCV\n",
    "import keras\n",
    "from keras.models import Sequential\n",
    "from keras.layers import Dense, Dropout, advanced_activations\n",
    "from keras import initializers, regularizers\n",
    "from keras.optimizers import RMSprop, Adam, SGD\n",
    "from keras.utils.np_utils import to_categorical\n",
    "\n",
    "from sklearn.metrics import classification_report, confusion_matrix, accuracy_score, f1_score, roc_curve, auc\n",
    "from sklearn.ensemble import RandomForestClassifier\n",
    "from sklearn.svm import SVC\n",
    "from sklearn.neighbors import KNeighborsClassifier\n",
    "\n",
    "from imblearn.over_sampling import SMOTE, SVMSMOTE, KMeansSMOTE\n",
    "from imblearn.over_sampling import ADASYN\n",
    "\n",
    "from sklearn.decomposition import PCA\n",
    "\n",
    "import warnings\n",
    "warnings.filterwarnings('ignore')\n",
    "\n",
    "random_seed = 123"
   ]
  },
  {
   "cell_type": "code",
   "execution_count": 2,
   "metadata": {},
   "outputs": [
    {
     "data": {
      "text/html": [
       "<div>\n",
       "<style scoped>\n",
       "    .dataframe tbody tr th:only-of-type {\n",
       "        vertical-align: middle;\n",
       "    }\n",
       "\n",
       "    .dataframe tbody tr th {\n",
       "        vertical-align: top;\n",
       "    }\n",
       "\n",
       "    .dataframe thead th {\n",
       "        text-align: right;\n",
       "    }\n",
       "</style>\n",
       "<table border=\"1\" class=\"dataframe\">\n",
       "  <thead>\n",
       "    <tr style=\"text-align: right;\">\n",
       "      <th></th>\n",
       "      <th>Mean of the integrated profile</th>\n",
       "      <th>Standard deviation of the integrated profile</th>\n",
       "      <th>Excess kurtosis of the integrated profile</th>\n",
       "      <th>Skewness of the integrated profile</th>\n",
       "      <th>Mean of the DM-SNR curve</th>\n",
       "      <th>Standard deviation of the DM-SNR curve</th>\n",
       "      <th>Excess kurtosis of the DM-SNR curve</th>\n",
       "      <th>Skewness of the DM-SNR curve</th>\n",
       "      <th>target_class</th>\n",
       "    </tr>\n",
       "  </thead>\n",
       "  <tbody>\n",
       "    <tr>\n",
       "      <th>0</th>\n",
       "      <td>140.562500</td>\n",
       "      <td>55.683782</td>\n",
       "      <td>-0.234571</td>\n",
       "      <td>-0.699648</td>\n",
       "      <td>3.199833</td>\n",
       "      <td>19.110426</td>\n",
       "      <td>7.975532</td>\n",
       "      <td>74.242225</td>\n",
       "      <td>0</td>\n",
       "    </tr>\n",
       "    <tr>\n",
       "      <th>1</th>\n",
       "      <td>102.507812</td>\n",
       "      <td>58.882430</td>\n",
       "      <td>0.465318</td>\n",
       "      <td>-0.515088</td>\n",
       "      <td>1.677258</td>\n",
       "      <td>14.860146</td>\n",
       "      <td>10.576487</td>\n",
       "      <td>127.393580</td>\n",
       "      <td>0</td>\n",
       "    </tr>\n",
       "    <tr>\n",
       "      <th>2</th>\n",
       "      <td>103.015625</td>\n",
       "      <td>39.341649</td>\n",
       "      <td>0.323328</td>\n",
       "      <td>1.051164</td>\n",
       "      <td>3.121237</td>\n",
       "      <td>21.744669</td>\n",
       "      <td>7.735822</td>\n",
       "      <td>63.171909</td>\n",
       "      <td>0</td>\n",
       "    </tr>\n",
       "    <tr>\n",
       "      <th>3</th>\n",
       "      <td>136.750000</td>\n",
       "      <td>57.178449</td>\n",
       "      <td>-0.068415</td>\n",
       "      <td>-0.636238</td>\n",
       "      <td>3.642977</td>\n",
       "      <td>20.959280</td>\n",
       "      <td>6.896499</td>\n",
       "      <td>53.593661</td>\n",
       "      <td>0</td>\n",
       "    </tr>\n",
       "    <tr>\n",
       "      <th>4</th>\n",
       "      <td>88.726562</td>\n",
       "      <td>40.672225</td>\n",
       "      <td>0.600866</td>\n",
       "      <td>1.123492</td>\n",
       "      <td>1.178930</td>\n",
       "      <td>11.468720</td>\n",
       "      <td>14.269573</td>\n",
       "      <td>252.567306</td>\n",
       "      <td>0</td>\n",
       "    </tr>\n",
       "    <tr>\n",
       "      <th>5</th>\n",
       "      <td>93.570312</td>\n",
       "      <td>46.698114</td>\n",
       "      <td>0.531905</td>\n",
       "      <td>0.416721</td>\n",
       "      <td>1.636288</td>\n",
       "      <td>14.545074</td>\n",
       "      <td>10.621748</td>\n",
       "      <td>131.394004</td>\n",
       "      <td>0</td>\n",
       "    </tr>\n",
       "    <tr>\n",
       "      <th>6</th>\n",
       "      <td>119.484375</td>\n",
       "      <td>48.765059</td>\n",
       "      <td>0.031460</td>\n",
       "      <td>-0.112168</td>\n",
       "      <td>0.999164</td>\n",
       "      <td>9.279612</td>\n",
       "      <td>19.206230</td>\n",
       "      <td>479.756567</td>\n",
       "      <td>0</td>\n",
       "    </tr>\n",
       "    <tr>\n",
       "      <th>7</th>\n",
       "      <td>130.382812</td>\n",
       "      <td>39.844056</td>\n",
       "      <td>-0.158323</td>\n",
       "      <td>0.389540</td>\n",
       "      <td>1.220736</td>\n",
       "      <td>14.378941</td>\n",
       "      <td>13.539456</td>\n",
       "      <td>198.236457</td>\n",
       "      <td>0</td>\n",
       "    </tr>\n",
       "    <tr>\n",
       "      <th>8</th>\n",
       "      <td>107.250000</td>\n",
       "      <td>52.627078</td>\n",
       "      <td>0.452688</td>\n",
       "      <td>0.170347</td>\n",
       "      <td>2.331940</td>\n",
       "      <td>14.486853</td>\n",
       "      <td>9.001004</td>\n",
       "      <td>107.972506</td>\n",
       "      <td>0</td>\n",
       "    </tr>\n",
       "    <tr>\n",
       "      <th>9</th>\n",
       "      <td>107.257812</td>\n",
       "      <td>39.496488</td>\n",
       "      <td>0.465882</td>\n",
       "      <td>1.162877</td>\n",
       "      <td>4.079431</td>\n",
       "      <td>24.980418</td>\n",
       "      <td>7.397080</td>\n",
       "      <td>57.784738</td>\n",
       "      <td>0</td>\n",
       "    </tr>\n",
       "  </tbody>\n",
       "</table>\n",
       "</div>"
      ],
      "text/plain": [
       "    Mean of the integrated profile  \\\n",
       "0                       140.562500   \n",
       "1                       102.507812   \n",
       "2                       103.015625   \n",
       "3                       136.750000   \n",
       "4                        88.726562   \n",
       "5                        93.570312   \n",
       "6                       119.484375   \n",
       "7                       130.382812   \n",
       "8                       107.250000   \n",
       "9                       107.257812   \n",
       "\n",
       "    Standard deviation of the integrated profile  \\\n",
       "0                                      55.683782   \n",
       "1                                      58.882430   \n",
       "2                                      39.341649   \n",
       "3                                      57.178449   \n",
       "4                                      40.672225   \n",
       "5                                      46.698114   \n",
       "6                                      48.765059   \n",
       "7                                      39.844056   \n",
       "8                                      52.627078   \n",
       "9                                      39.496488   \n",
       "\n",
       "    Excess kurtosis of the integrated profile  \\\n",
       "0                                   -0.234571   \n",
       "1                                    0.465318   \n",
       "2                                    0.323328   \n",
       "3                                   -0.068415   \n",
       "4                                    0.600866   \n",
       "5                                    0.531905   \n",
       "6                                    0.031460   \n",
       "7                                   -0.158323   \n",
       "8                                    0.452688   \n",
       "9                                    0.465882   \n",
       "\n",
       "    Skewness of the integrated profile   Mean of the DM-SNR curve  \\\n",
       "0                            -0.699648                   3.199833   \n",
       "1                            -0.515088                   1.677258   \n",
       "2                             1.051164                   3.121237   \n",
       "3                            -0.636238                   3.642977   \n",
       "4                             1.123492                   1.178930   \n",
       "5                             0.416721                   1.636288   \n",
       "6                            -0.112168                   0.999164   \n",
       "7                             0.389540                   1.220736   \n",
       "8                             0.170347                   2.331940   \n",
       "9                             1.162877                   4.079431   \n",
       "\n",
       "    Standard deviation of the DM-SNR curve  \\\n",
       "0                                19.110426   \n",
       "1                                14.860146   \n",
       "2                                21.744669   \n",
       "3                                20.959280   \n",
       "4                                11.468720   \n",
       "5                                14.545074   \n",
       "6                                 9.279612   \n",
       "7                                14.378941   \n",
       "8                                14.486853   \n",
       "9                                24.980418   \n",
       "\n",
       "    Excess kurtosis of the DM-SNR curve   Skewness of the DM-SNR curve  \\\n",
       "0                              7.975532                      74.242225   \n",
       "1                             10.576487                     127.393580   \n",
       "2                              7.735822                      63.171909   \n",
       "3                              6.896499                      53.593661   \n",
       "4                             14.269573                     252.567306   \n",
       "5                             10.621748                     131.394004   \n",
       "6                             19.206230                     479.756567   \n",
       "7                             13.539456                     198.236457   \n",
       "8                              9.001004                     107.972506   \n",
       "9                              7.397080                      57.784738   \n",
       "\n",
       "   target_class  \n",
       "0             0  \n",
       "1             0  \n",
       "2             0  \n",
       "3             0  \n",
       "4             0  \n",
       "5             0  \n",
       "6             0  \n",
       "7             0  \n",
       "8             0  \n",
       "9             0  "
      ]
     },
     "execution_count": 2,
     "metadata": {},
     "output_type": "execute_result"
    }
   ],
   "source": [
    "pulsar_df = pd.read_csv('pulsar_stars.csv')\n",
    "pulsar_df.head(10)"
   ]
  },
  {
   "cell_type": "code",
   "execution_count": 3,
   "metadata": {},
   "outputs": [
    {
     "name": "stdout",
     "output_type": "stream",
     "text": [
      "5.8125 192.6171875\n",
      "24.77204176 98.77891067\n",
      "-1.876011181 8.069522046\n",
      "-1.7918859809999999 68.10162173\n",
      "0.213210702 223.39214049999998\n",
      "7.370432165 110.64221059999998\n",
      "-3.1392696110000005 34.53984419\n",
      "-1.976975603 1191.0008369999998\n",
      "0 1\n"
     ]
    }
   ],
   "source": [
    "for col in pulsar_df.columns:\n",
    "    print(min(pulsar_df[col]), max(pulsar_df[col]))"
   ]
  },
  {
   "cell_type": "code",
   "execution_count": 4,
   "metadata": {},
   "outputs": [
    {
     "name": "stdout",
     "output_type": "stream",
     "text": [
      "<class 'pandas.core.frame.DataFrame'>\n",
      "RangeIndex: 17898 entries, 0 to 17897\n",
      "Data columns (total 9 columns):\n",
      " Mean of the integrated profile                  17898 non-null float64\n",
      " Standard deviation of the integrated profile    17898 non-null float64\n",
      " Excess kurtosis of the integrated profile       17898 non-null float64\n",
      " Skewness of the integrated profile              17898 non-null float64\n",
      " Mean of the DM-SNR curve                        17898 non-null float64\n",
      " Standard deviation of the DM-SNR curve          17898 non-null float64\n",
      " Excess kurtosis of the DM-SNR curve             17898 non-null float64\n",
      " Skewness of the DM-SNR curve                    17898 non-null float64\n",
      "target_class                                     17898 non-null int64\n",
      "dtypes: float64(8), int64(1)\n",
      "memory usage: 1.2 MB\n"
     ]
    }
   ],
   "source": [
    "pulsar_df.info()"
   ]
  },
  {
   "cell_type": "markdown",
   "metadata": {},
   "source": [
    "### Code block for running scaled data"
   ]
  },
  {
   "cell_type": "code",
   "execution_count": 85,
   "metadata": {},
   "outputs": [
    {
     "name": "stdout",
     "output_type": "stream",
     "text": [
      "(12528, 8) (5370, 8)\n",
      "(12528,) (5370,)\n"
     ]
    }
   ],
   "source": [
    "X = pulsar_df.drop('target_class', axis=1)\n",
    "y = pulsar_df['target_class']\n",
    "features = X.columns\n",
    "\n",
    "scalar = StandardScaler()\n",
    "X_train, X_test, y_train, y_test = train_test_split(X, y, test_size=0.3, random_state=random_seed)\n",
    "# X_train, X_val, y_train, y_val = train_test_split(X_train, y_train, test_size=0.2, random_state=random_seed)  \n",
    "\n",
    "X_train = scalar.fit_transform(X_train)\n",
    "\n",
    "# X_val = scalar.transform(X_val)\n",
    "\n",
    "X_test = scalar.transform(X_test)\n",
    "\n",
    "print(X_train.shape, X_test.shape)\n",
    "print(y_train.shape, y_test.shape)"
   ]
  },
  {
   "cell_type": "code",
   "execution_count": 86,
   "metadata": {},
   "outputs": [
    {
     "name": "stdout",
     "output_type": "stream",
     "text": [
      "(12528, 2) (5370, 2)\n"
     ]
    }
   ],
   "source": [
    "y_train_cat = to_categorical(y_train, num_classes=2)\n",
    "y_test_cat = to_categorical(y_test, num_classes=2)\n",
    "print(y_train_cat.shape, y_test_cat.shape)"
   ]
  },
  {
   "cell_type": "markdown",
   "metadata": {},
   "source": [
    "## Classic ML Test"
   ]
  },
  {
   "cell_type": "code",
   "execution_count": 7,
   "metadata": {},
   "outputs": [],
   "source": [
    "def confusion_reporting(true_values, pred_values):\n",
    "    print(confusion_matrix(true_values, pred_values))\n",
    "    print(classification_report(true_values, pred_values))\n",
    "    print('Accuracy score:', round(accuracy_score(true_values, pred_values), 4))\n",
    "\n",
    "    cm = confusion_matrix(true_values, pred_values)\n",
    "    df_cm = pd.DataFrame(cm.astype('float') / cm.sum(axis=1)[:, np.newaxis],\n",
    "                         index=['F', 'T'],\n",
    "                         columns=['F', 'T'])\n",
    "    plt.figure(figsize=(7, 5))\n",
    "    sns.heatmap(df_cm, annot=True, cmap='Greens')\n",
    "    plt.xlabel('Pred Val')\n",
    "    plt.ylabel('True Val')\n",
    "    plt.show()"
   ]
  },
  {
   "cell_type": "code",
   "execution_count": 8,
   "metadata": {},
   "outputs": [],
   "source": [
    "def grid_search_classifier(clf, param_grid, X_train, X_test, y_train, y_test, scoring='f1_weighted'):\n",
    "    grid_clf = GridSearchCV(clf, param_grid, scoring=scoring, n_jobs=-1)\n",
    "    grid_clf.fit(X_train, y_train)\n",
    "\n",
    "    best_parameters = grid_clf.best_params_\n",
    "\n",
    "    print(\"Grid Search found the following optimal parameters: \")\n",
    "    for param_name in sorted(best_parameters.keys()):\n",
    "        print(\"%s: %r\" % (param_name, best_parameters[param_name]))\n",
    "\n",
    "    y_pred = grid_clf.predict(X_test)\n",
    "\n",
    "    print()\n",
    "    confusion_reporting(y_test, y_pred)\n",
    "    return grid_clf"
   ]
  },
  {
   "cell_type": "code",
   "execution_count": 94,
   "metadata": {},
   "outputs": [],
   "source": [
    "param_grid = {'max_depth': [5, 10, 15, 30],\n",
    "              'max_features': [2, 5, 8],\n",
    "              'n_estimators': [10, 25, 50, 100, 250]\n",
    "             }"
   ]
  },
  {
   "cell_type": "code",
   "execution_count": 95,
   "metadata": {},
   "outputs": [
    {
     "name": "stderr",
     "output_type": "stream",
     "text": [
      "/anaconda3/lib/python3.7/site-packages/sklearn/model_selection/_split.py:1978: FutureWarning: The default value of cv will change from 3 to 5 in version 0.22. Specify it explicitly to silence this warning.\n",
      "  warnings.warn(CV_WARNING, FutureWarning)\n"
     ]
    },
    {
     "name": "stdout",
     "output_type": "stream",
     "text": [
      "Grid Search found the following optimal parameters: \n",
      "max_depth: 15\n",
      "max_features: 5\n",
      "n_estimators: 100\n",
      "\n",
      "[[4818   42]\n",
      " [  75  435]]\n",
      "              precision    recall  f1-score   support\n",
      "\n",
      "           0       0.98      0.99      0.99      4860\n",
      "           1       0.91      0.85      0.88       510\n",
      "\n",
      "    accuracy                           0.98      5370\n",
      "   macro avg       0.95      0.92      0.93      5370\n",
      "weighted avg       0.98      0.98      0.98      5370\n",
      "\n",
      "Accuracy score: 0.9782\n"
     ]
    },
    {
     "data": {
      "image/png": "[encoded data removed]",
      "text/plain": [
       "<Figure size 504x360 with 2 Axes>"
      ]
     },
     "metadata": {
      "needs_background": "light"
     },
     "output_type": "display_data"
    }
   ],
   "source": [
    "rf_grid_clf = grid_search_classifier(RandomForestClassifier(), param_grid, X_train, X_test, y_train, y_test)"
   ]
  },
  {
   "cell_type": "markdown",
   "metadata": {},
   "source": [
    "## Baseline Model"
   ]
  },
  {
   "cell_type": "code",
   "execution_count": 96,
   "metadata": {
    "scrolled": true
   },
   "outputs": [
    {
     "name": "stdout",
     "output_type": "stream",
     "text": [
      "Train on 12528 samples, validate on 5370 samples\n",
      "Epoch 1/10\n",
      "12528/12528 [==============================] - 2s 165us/step - loss: 0.1693 - acc: 0.8163 - val_loss: 0.1453 - val_acc: 0.8655\n",
      "Epoch 2/10\n",
      "12528/12528 [==============================] - 1s 44us/step - loss: 0.1236 - acc: 0.9058 - val_loss: 0.1104 - val_acc: 0.9199\n",
      "Epoch 3/10\n",
      "12528/12528 [==============================] - 1s 40us/step - loss: 0.0957 - acc: 0.9401 - val_loss: 0.0884 - val_acc: 0.9438\n",
      "Epoch 4/10\n",
      "12528/12528 [==============================] - 1s 49us/step - loss: 0.0777 - acc: 0.9571 - val_loss: 0.0737 - val_acc: 0.9551\n",
      "Epoch 5/10\n",
      "12528/12528 [==============================] - 1s 43us/step - loss: 0.0655 - acc: 0.9676 - val_loss: 0.0636 - val_acc: 0.9633\n",
      "Epoch 6/10\n",
      "12528/12528 [==============================] - 1s 42us/step - loss: 0.0569 - acc: 0.9721 - val_loss: 0.0563 - val_acc: 0.9683\n",
      "Epoch 7/10\n",
      "12528/12528 [==============================] - 1s 57us/step - loss: 0.0507 - acc: 0.9741 - val_loss: 0.0510 - val_acc: 0.9702\n",
      "Epoch 8/10\n",
      "12528/12528 [==============================] - 1s 65us/step - loss: 0.0461 - acc: 0.9757 - val_loss: 0.0469 - val_acc: 0.9706\n",
      "Epoch 9/10\n",
      "12528/12528 [==============================] - 1s 59us/step - loss: 0.0425 - acc: 0.9759 - val_loss: 0.0438 - val_acc: 0.9719\n",
      "Epoch 10/10\n",
      "12528/12528 [==============================] - 1s 46us/step - loss: 0.0398 - acc: 0.9758 - val_loss: 0.0413 - val_acc: 0.9719\n"
     ]
    }
   ],
   "source": [
    "model = Sequential()\n",
    "model.add(Dense(2, activation = 'sigmoid'))\n",
    "\n",
    "model.compile(optimizer= \"sgd\", loss='mse', metrics=['acc'])\n",
    "base_model = model.fit(X_train, y_train_cat, batch_size=32, epochs=10, validation_data=(X_test, y_test_cat))"
   ]
  },
  {
   "cell_type": "markdown",
   "metadata": {},
   "source": [
    "## Improving the Model"
   ]
  },
  {
   "cell_type": "code",
   "execution_count": 97,
   "metadata": {
    "scrolled": true
   },
   "outputs": [
    {
     "name": "stdout",
     "output_type": "stream",
     "text": [
      "Train on 12528 samples, validate on 5370 samples\n",
      "Epoch 1/30\n",
      "12528/12528 [==============================] - 2s 167us/step - loss: 0.3528 - acc: 0.9220 - val_loss: 0.1545 - val_acc: 0.9608\n",
      "Epoch 2/30\n",
      "12528/12528 [==============================] - 1s 85us/step - loss: 0.1107 - acc: 0.9707 - val_loss: 0.0997 - val_acc: 0.9699\n",
      "Epoch 3/30\n",
      "12528/12528 [==============================] - 1s 79us/step - loss: 0.0862 - acc: 0.9753 - val_loss: 0.0908 - val_acc: 0.9734\n",
      "Epoch 4/30\n",
      "12528/12528 [==============================] - 1s 100us/step - loss: 0.0805 - acc: 0.9771 - val_loss: 0.0877 - val_acc: 0.9736\n",
      "Epoch 5/30\n",
      "12528/12528 [==============================] - 1s 80us/step - loss: 0.0780 - acc: 0.9775 - val_loss: 0.0861 - val_acc: 0.9739\n",
      "Epoch 6/30\n",
      "12528/12528 [==============================] - 1s 73us/step - loss: 0.0765 - acc: 0.9782 - val_loss: 0.0850 - val_acc: 0.9745\n",
      "Epoch 7/30\n",
      "12528/12528 [==============================] - 1s 94us/step - loss: 0.0754 - acc: 0.9785 - val_loss: 0.0844 - val_acc: 0.9746\n",
      "Epoch 8/30\n",
      "12528/12528 [==============================] - 1s 76us/step - loss: 0.0746 - acc: 0.9784 - val_loss: 0.0833 - val_acc: 0.9747\n",
      "Epoch 9/30\n",
      "12528/12528 [==============================] - 1s 74us/step - loss: 0.0738 - acc: 0.9785 - val_loss: 0.0827 - val_acc: 0.9747\n",
      "Epoch 10/30\n",
      "12528/12528 [==============================] - 1s 61us/step - loss: 0.0732 - acc: 0.9788 - val_loss: 0.0821 - val_acc: 0.9746\n",
      "Epoch 11/30\n",
      "12528/12528 [==============================] - 1s 61us/step - loss: 0.0727 - acc: 0.9790 - val_loss: 0.0818 - val_acc: 0.9749\n",
      "Epoch 12/30\n",
      "12528/12528 [==============================] - 1s 60us/step - loss: 0.0722 - acc: 0.9790 - val_loss: 0.0814 - val_acc: 0.9748\n",
      "Epoch 13/30\n",
      "12528/12528 [==============================] - 1s 59us/step - loss: 0.0717 - acc: 0.9791 - val_loss: 0.0809 - val_acc: 0.9750\n",
      "Epoch 14/30\n",
      "12528/12528 [==============================] - 1s 61us/step - loss: 0.0713 - acc: 0.9790 - val_loss: 0.0806 - val_acc: 0.9751\n",
      "Epoch 15/30\n",
      "12528/12528 [==============================] - 1s 72us/step - loss: 0.0710 - acc: 0.9789 - val_loss: 0.0802 - val_acc: 0.9759\n",
      "Epoch 16/30\n",
      "12528/12528 [==============================] - 1s 72us/step - loss: 0.0706 - acc: 0.9792 - val_loss: 0.0799 - val_acc: 0.9759\n",
      "Epoch 17/30\n",
      "12528/12528 [==============================] - 1s 83us/step - loss: 0.0703 - acc: 0.9791 - val_loss: 0.0796 - val_acc: 0.9760\n",
      "Epoch 18/30\n",
      "12528/12528 [==============================] - 1s 65us/step - loss: 0.0700 - acc: 0.9788 - val_loss: 0.0794 - val_acc: 0.9760\n",
      "Epoch 19/30\n",
      "12528/12528 [==============================] - 1s 60us/step - loss: 0.0697 - acc: 0.9788 - val_loss: 0.0793 - val_acc: 0.9760\n",
      "Epoch 20/30\n",
      "12528/12528 [==============================] - 1s 60us/step - loss: 0.0694 - acc: 0.9790 - val_loss: 0.0790 - val_acc: 0.9758\n",
      "Epoch 21/30\n",
      "12528/12528 [==============================] - 1s 58us/step - loss: 0.0691 - acc: 0.9794 - val_loss: 0.0787 - val_acc: 0.9764\n",
      "Epoch 22/30\n",
      "12528/12528 [==============================] - 1s 57us/step - loss: 0.0689 - acc: 0.9794 - val_loss: 0.0787 - val_acc: 0.9760\n",
      "Epoch 23/30\n",
      "12528/12528 [==============================] - 1s 81us/step - loss: 0.0686 - acc: 0.9796 - val_loss: 0.0782 - val_acc: 0.9764\n",
      "Epoch 24/30\n",
      "12528/12528 [==============================] - 1s 72us/step - loss: 0.0683 - acc: 0.9794 - val_loss: 0.0780 - val_acc: 0.9764\n",
      "Epoch 25/30\n",
      "12528/12528 [==============================] - 1s 72us/step - loss: 0.0681 - acc: 0.9793 - val_loss: 0.0780 - val_acc: 0.9769\n",
      "Epoch 26/30\n",
      "12528/12528 [==============================] - 1s 61us/step - loss: 0.0679 - acc: 0.9793 - val_loss: 0.0777 - val_acc: 0.9769\n",
      "Epoch 27/30\n",
      "12528/12528 [==============================] - 1s 77us/step - loss: 0.0677 - acc: 0.9795 - val_loss: 0.0774 - val_acc: 0.9770\n",
      "Epoch 28/30\n",
      "12528/12528 [==============================] - 1s 83us/step - loss: 0.0674 - acc: 0.9793 - val_loss: 0.0772 - val_acc: 0.9771\n",
      "Epoch 29/30\n",
      "12528/12528 [==============================] - 1s 81us/step - loss: 0.0671 - acc: 0.9800 - val_loss: 0.0773 - val_acc: 0.9770\n",
      "Epoch 30/30\n",
      "12528/12528 [==============================] - 1s 112us/step - loss: 0.0670 - acc: 0.9796 - val_loss: 0.0772 - val_acc: 0.9777\n"
     ]
    }
   ],
   "source": [
    "model = Sequential()\n",
    "model.add(Dense(100, input_dim=8))\n",
    "model.add(advanced_activations.LeakyReLU(alpha=0.2))\n",
    "model.add(Dense(100))\n",
    "model.add(advanced_activations.LeakyReLU(alpha=0.2))\n",
    "model.add(Dense(100))\n",
    "model.add(advanced_activations.LeakyReLU(alpha=0.2))\n",
    "model.add(Dense(2, activation = 'sigmoid'))\n",
    "\n",
    "\n",
    "model.compile(optimizer= 'sgd', loss='binary_crossentropy', metrics=['acc'])\n",
    "new_model = model.fit(X_train, y_train_cat, batch_size=32, epochs=30, \n",
    "                      validation_data=(X_test, y_test_cat))"
   ]
  },
  {
   "cell_type": "code",
   "execution_count": 98,
   "metadata": {},
   "outputs": [
    {
     "name": "stdout",
     "output_type": "stream",
     "text": [
      "Test loss: 0.07717518585264073\n",
      "Test accuracy: 0.9777467411545624\n"
     ]
    }
   ],
   "source": [
    "score = model.evaluate(X_test, y_test_cat, verbose=0)\n",
    "print('Test loss:', score[0])\n",
    "print('Test accuracy:', score[1])"
   ]
  },
  {
   "cell_type": "markdown",
   "metadata": {},
   "source": [
    "## Stacked Ensemble Modeling"
   ]
  },
  {
   "cell_type": "code",
   "execution_count": 87,
   "metadata": {},
   "outputs": [
    {
     "name": "stdout",
     "output_type": "stream",
     "text": [
      "(16108, 8) (1790, 8)\n",
      "(16108,) (1790,)\n"
     ]
    }
   ],
   "source": [
    "X = pulsar_df.drop('target_class', axis=1)\n",
    "y = pulsar_df['target_class']\n",
    "\n",
    "X_train, X_test, y_train, y_test = train_test_split(X, y, test_size=0.1, random_state=random_seed)\n",
    "# X_train, X_val, y_train, y_val = train_test_split(X_train, y_train, test_size=0.2, random_state=random_seed)  \n",
    "\n",
    "scalar = StandardScaler()\n",
    "X_train = scalar.fit_transform(X_train)\n",
    "\n",
    "# X_val = scalar.transform(X_val)\n",
    "\n",
    "X_test = scalar.transform(X_test)\n",
    "\n",
    "X = scalar.transform(X)\n",
    "\n",
    "print(X_train.shape, X_test.shape)\n",
    "print(y_train.shape, y_test.shape)"
   ]
  },
  {
   "cell_type": "code",
   "execution_count": 88,
   "metadata": {},
   "outputs": [
    {
     "name": "stdout",
     "output_type": "stream",
     "text": [
      "(16108, 2) (1790, 2)\n"
     ]
    }
   ],
   "source": [
    "y_train_cat = to_categorical(y_train, num_classes=2)\n",
    "y_test_cat = to_categorical(y_test, num_classes=2)\n",
    "print(y_train_cat.shape, y_test_cat.shape)"
   ]
  },
  {
   "cell_type": "markdown",
   "metadata": {},
   "source": [
    "### Random Forest"
   ]
  },
  {
   "cell_type": "code",
   "execution_count": 11,
   "metadata": {},
   "outputs": [],
   "source": [
    "param_grid = {'max_depth': [5, 10, 15, 30],\n",
    "              'max_features': [2, 5, 8],\n",
    "              'n_estimators': [25, 50, 100, 250]\n",
    "             }"
   ]
  },
  {
   "cell_type": "code",
   "execution_count": 12,
   "metadata": {},
   "outputs": [
    {
     "name": "stdout",
     "output_type": "stream",
     "text": [
      "Grid Search found the following optimal parameters: \n",
      "max_depth: 10\n",
      "max_features: 5\n",
      "n_estimators: 25\n",
      "\n",
      "[[1606   15]\n",
      " [  28  141]]\n",
      "              precision    recall  f1-score   support\n",
      "\n",
      "           0       0.98      0.99      0.99      1621\n",
      "           1       0.90      0.83      0.87       169\n",
      "\n",
      "    accuracy                           0.98      1790\n",
      "   macro avg       0.94      0.91      0.93      1790\n",
      "weighted avg       0.98      0.98      0.98      1790\n",
      "\n",
      "Accuracy score: 0.976\n"
     ]
    },
    {
     "data": {
      "image/png": "[encoded data removed]",
      "text/plain": [
       "<Figure size 504x360 with 2 Axes>"
      ]
     },
     "metadata": {
      "needs_background": "light"
     },
     "output_type": "display_data"
    }
   ],
   "source": [
    "warnings.filterwarnings('ignore')\n",
    "\n",
    "rf_grid_clf = grid_search_classifier(RandomForestClassifier(), param_grid, X_train, X_test, y_train, y_test)"
   ]
  },
  {
   "cell_type": "code",
   "execution_count": 13,
   "metadata": {},
   "outputs": [
    {
     "data": {
      "text/plain": [
       "(17898,)"
      ]
     },
     "execution_count": 13,
     "metadata": {},
     "output_type": "execute_result"
    }
   ],
   "source": [
    "rf_predict = rf_grid_clf.predict(X)\n",
    "rf_predict.shape"
   ]
  },
  {
   "cell_type": "markdown",
   "metadata": {},
   "source": [
    "### SVC"
   ]
  },
  {
   "cell_type": "code",
   "execution_count": 89,
   "metadata": {},
   "outputs": [],
   "source": [
    "param_grid = {'kernel': ['linear', 'poly', 'rbf', 'sigmoid'],\n",
    "              'probability': [True],\n",
    "              'C': [.01, .1, 1, 10, 100],\n",
    "              'degree': [2, 3, 4],\n",
    "              'shrinking': [True, False]\n",
    "             }"
   ]
  },
  {
   "cell_type": "code",
   "execution_count": null,
   "metadata": {},
   "outputs": [],
   "source": [
    "warnings.filterwarnings('ignore')\n",
    "\n",
    "svc_grid_clf = grid_search_classifier(SVC(), param_grid, X_train, X_test, y_train, y_test)"
   ]
  },
  {
   "cell_type": "code",
   "execution_count": null,
   "metadata": {},
   "outputs": [],
   "source": [
    "svc_predict = svc_grid_clf.predict(X)\n",
    "svc_predict.shape"
   ]
  },
  {
   "cell_type": "markdown",
   "metadata": {},
   "source": [
    "### KNN"
   ]
  },
  {
   "cell_type": "code",
   "execution_count": 17,
   "metadata": {},
   "outputs": [],
   "source": [
    "param_grid = {'weights': ['uniform', 'distance'],\n",
    "              'n_neighbors': [3, 5, 8, 10, 15, 20]\n",
    "             }"
   ]
  },
  {
   "cell_type": "code",
   "execution_count": 18,
   "metadata": {},
   "outputs": [
    {
     "name": "stdout",
     "output_type": "stream",
     "text": [
      "Grid Search found the following optimal parameters: \n",
      "n_neighbors: 5\n",
      "weights: 'distance'\n",
      "\n",
      "[[1609   12]\n",
      " [  33  136]]\n",
      "              precision    recall  f1-score   support\n",
      "\n",
      "           0       0.98      0.99      0.99      1621\n",
      "           1       0.92      0.80      0.86       169\n",
      "\n",
      "    accuracy                           0.97      1790\n",
      "   macro avg       0.95      0.90      0.92      1790\n",
      "weighted avg       0.97      0.97      0.97      1790\n",
      "\n",
      "Accuracy score: 0.9749\n"
     ]
    },
    {
     "data": {
      "image/png": "[encoded data removed]",
      "text/plain": [
       "<Figure size 504x360 with 2 Axes>"
      ]
     },
     "metadata": {
      "needs_background": "light"
     },
     "output_type": "display_data"
    }
   ],
   "source": [
    "warnings.filterwarnings('ignore')\n",
    "\n",
    "knn_grid_clf = grid_search_classifier(KNeighborsClassifier(), param_grid, X_train, X_test, y_train, y_test)"
   ]
  },
  {
   "cell_type": "code",
   "execution_count": 20,
   "metadata": {},
   "outputs": [
    {
     "data": {
      "text/plain": [
       "(17898,)"
      ]
     },
     "execution_count": 20,
     "metadata": {},
     "output_type": "execute_result"
    }
   ],
   "source": [
    "knn_predict = knn_grid_clf.predict(X)\n",
    "knn_predict.shape"
   ]
  },
  {
   "cell_type": "code",
   "execution_count": 33,
   "metadata": {},
   "outputs": [
    {
     "data": {
      "text/plain": [
       "array([0, 0, 0, ..., 0, 0, 0])"
      ]
     },
     "execution_count": 33,
     "metadata": {},
     "output_type": "execute_result"
    }
   ],
   "source": [
    "knn_predict"
   ]
  },
  {
   "cell_type": "markdown",
   "metadata": {},
   "source": [
    "### Neural Network"
   ]
  },
  {
   "cell_type": "code",
   "execution_count": 44,
   "metadata": {
    "scrolled": true
   },
   "outputs": [
    {
     "name": "stdout",
     "output_type": "stream",
     "text": [
      "Train on 16108 samples, validate on 1790 samples\n",
      "Epoch 1/30\n",
      "16108/16108 [==============================] - 1s 91us/step - loss: 0.2889 - acc: 0.9425 - val_loss: 0.1212 - val_acc: 0.9673\n",
      "Epoch 2/30\n",
      "16108/16108 [==============================] - 1s 50us/step - loss: 0.0951 - acc: 0.9741 - val_loss: 0.0949 - val_acc: 0.9709\n",
      "Epoch 3/30\n",
      "16108/16108 [==============================] - 1s 60us/step - loss: 0.0819 - acc: 0.9768 - val_loss: 0.0911 - val_acc: 0.9704\n",
      "Epoch 4/30\n",
      "16108/16108 [==============================] - 2s 105us/step - loss: 0.0784 - acc: 0.9771 - val_loss: 0.0895 - val_acc: 0.9715\n",
      "Epoch 5/30\n",
      "16108/16108 [==============================] - 1s 87us/step - loss: 0.0766 - acc: 0.9782 - val_loss: 0.0884 - val_acc: 0.9718\n",
      "Epoch 6/30\n",
      "16108/16108 [==============================] - 2s 102us/step - loss: 0.0754 - acc: 0.9782 - val_loss: 0.0876 - val_acc: 0.9721\n",
      "Epoch 7/30\n",
      "16108/16108 [==============================] - 2s 108us/step - loss: 0.0745 - acc: 0.9784 - val_loss: 0.0871 - val_acc: 0.9726\n",
      "Epoch 8/30\n",
      "16108/16108 [==============================] - 1s 60us/step - loss: 0.0737 - acc: 0.9785 - val_loss: 0.0864 - val_acc: 0.9712\n",
      "Epoch 9/30\n",
      "16108/16108 [==============================] - 1s 56us/step - loss: 0.0731 - acc: 0.9786 - val_loss: 0.0861 - val_acc: 0.9712\n",
      "Epoch 10/30\n",
      "16108/16108 [==============================] - 2s 102us/step - loss: 0.0725 - acc: 0.9787 - val_loss: 0.0856 - val_acc: 0.9715\n",
      "Epoch 11/30\n",
      "16108/16108 [==============================] - 1s 58us/step - loss: 0.0721 - acc: 0.9787 - val_loss: 0.0852 - val_acc: 0.9726\n",
      "Epoch 12/30\n",
      "16108/16108 [==============================] - 1s 44us/step - loss: 0.0716 - acc: 0.9790 - val_loss: 0.0849 - val_acc: 0.9729\n",
      "Epoch 13/30\n",
      "16108/16108 [==============================] - 1s 45us/step - loss: 0.0712 - acc: 0.9792 - val_loss: 0.0845 - val_acc: 0.9729\n",
      "Epoch 14/30\n",
      "16108/16108 [==============================] - 1s 43us/step - loss: 0.0708 - acc: 0.9794 - val_loss: 0.0842 - val_acc: 0.9729\n",
      "Epoch 15/30\n",
      "16108/16108 [==============================] - 1s 59us/step - loss: 0.0705 - acc: 0.9792 - val_loss: 0.0840 - val_acc: 0.9729\n",
      "Epoch 16/30\n",
      "16108/16108 [==============================] - 1s 80us/step - loss: 0.0702 - acc: 0.9794 - val_loss: 0.0836 - val_acc: 0.9729\n",
      "Epoch 17/30\n",
      "16108/16108 [==============================] - 1s 71us/step - loss: 0.0698 - acc: 0.9793 - val_loss: 0.0833 - val_acc: 0.9729\n",
      "Epoch 18/30\n",
      "16108/16108 [==============================] - 1s 70us/step - loss: 0.0696 - acc: 0.9797 - val_loss: 0.0829 - val_acc: 0.9737\n",
      "Epoch 19/30\n",
      "16108/16108 [==============================] - 1s 47us/step - loss: 0.0692 - acc: 0.9796 - val_loss: 0.0828 - val_acc: 0.9732\n",
      "Epoch 20/30\n",
      "16108/16108 [==============================] - 1s 48us/step - loss: 0.0690 - acc: 0.9798 - val_loss: 0.0825 - val_acc: 0.9735\n",
      "Epoch 21/30\n",
      "16108/16108 [==============================] - 1s 54us/step - loss: 0.0687 - acc: 0.9799 - val_loss: 0.0822 - val_acc: 0.9743\n",
      "Epoch 22/30\n",
      "16108/16108 [==============================] - 1s 50us/step - loss: 0.0684 - acc: 0.9802 - val_loss: 0.0822 - val_acc: 0.9746\n",
      "Epoch 23/30\n",
      "16108/16108 [==============================] - 1s 48us/step - loss: 0.0683 - acc: 0.9801 - val_loss: 0.0819 - val_acc: 0.9743\n",
      "Epoch 24/30\n",
      "16108/16108 [==============================] - 1s 45us/step - loss: 0.0680 - acc: 0.9803 - val_loss: 0.0816 - val_acc: 0.9751\n",
      "Epoch 25/30\n",
      "16108/16108 [==============================] - 1s 44us/step - loss: 0.0678 - acc: 0.9803 - val_loss: 0.0816 - val_acc: 0.9754\n",
      "Epoch 26/30\n",
      "16108/16108 [==============================] - 1s 48us/step - loss: 0.0676 - acc: 0.9802 - val_loss: 0.0816 - val_acc: 0.9746\n",
      "Epoch 27/30\n",
      "16108/16108 [==============================] - 1s 45us/step - loss: 0.0674 - acc: 0.9803 - val_loss: 0.0811 - val_acc: 0.9757\n",
      "Epoch 28/30\n",
      "16108/16108 [==============================] - 1s 42us/step - loss: 0.0673 - acc: 0.9802 - val_loss: 0.0810 - val_acc: 0.9760\n",
      "Epoch 29/30\n",
      "16108/16108 [==============================] - 1s 50us/step - loss: 0.0671 - acc: 0.9803 - val_loss: 0.0809 - val_acc: 0.9757\n",
      "Epoch 30/30\n",
      "16108/16108 [==============================] - 1s 48us/step - loss: 0.0669 - acc: 0.9806 - val_loss: 0.0807 - val_acc: 0.9757\n"
     ]
    }
   ],
   "source": [
    "warnings.filterwarnings('ignore')\n",
    "\n",
    "nn_model = Sequential()\n",
    "nn_model.add(Dense(100, input_dim=8))\n",
    "nn_model.add(advanced_activations.LeakyReLU(alpha=0.2))\n",
    "nn_model.add(Dense(100))\n",
    "nn_model.add(advanced_activations.LeakyReLU(alpha=0.2))\n",
    "nn_model.add(Dense(100))\n",
    "nn_model.add(advanced_activations.LeakyReLU(alpha=0.2))\n",
    "nn_model.add(Dense(2, activation = 'sigmoid'))\n",
    "\n",
    "\n",
    "nn_model.compile(optimizer= 'sgd', loss='binary_crossentropy', metrics=['acc'])\n",
    "hist = nn_model.fit(X_train, y_train_cat, batch_size=32, epochs=30, \n",
    "                    validation_data=(X_test, y_test_cat))"
   ]
  },
  {
   "cell_type": "code",
   "execution_count": 67,
   "metadata": {},
   "outputs": [
    {
     "data": {
      "text/plain": [
       "(17898,)"
      ]
     },
     "execution_count": 67,
     "metadata": {},
     "output_type": "execute_result"
    }
   ],
   "source": [
    "nn_predict = nn_model.predict(X)\n",
    "nn_predict_int = np.argmax(nn_predict, axis=1)\n",
    "nn_predict_int.shape"
   ]
  },
  {
   "cell_type": "code",
   "execution_count": 78,
   "metadata": {},
   "outputs": [],
   "source": [
    "stacked10_predict = pd.DataFrame({'rf': rf_predict, 'knn': knn_predict, 'nn': nn_predict_int, 'y': y.values})"
   ]
  },
  {
   "cell_type": "code",
   "execution_count": 80,
   "metadata": {},
   "outputs": [
    {
     "data": {
      "text/html": [
       "<div>\n",
       "<style scoped>\n",
       "    .dataframe tbody tr th:only-of-type {\n",
       "        vertical-align: middle;\n",
       "    }\n",
       "\n",
       "    .dataframe tbody tr th {\n",
       "        vertical-align: top;\n",
       "    }\n",
       "\n",
       "    .dataframe thead th {\n",
       "        text-align: right;\n",
       "    }\n",
       "</style>\n",
       "<table border=\"1\" class=\"dataframe\">\n",
       "  <thead>\n",
       "    <tr style=\"text-align: right;\">\n",
       "      <th></th>\n",
       "      <th>rf</th>\n",
       "      <th>knn</th>\n",
       "      <th>nn</th>\n",
       "      <th>y</th>\n",
       "    </tr>\n",
       "  </thead>\n",
       "  <tbody>\n",
       "    <tr>\n",
       "      <th>0</th>\n",
       "      <td>0</td>\n",
       "      <td>0</td>\n",
       "      <td>0</td>\n",
       "      <td>0</td>\n",
       "    </tr>\n",
       "    <tr>\n",
       "      <th>1</th>\n",
       "      <td>0</td>\n",
       "      <td>0</td>\n",
       "      <td>0</td>\n",
       "      <td>0</td>\n",
       "    </tr>\n",
       "    <tr>\n",
       "      <th>2</th>\n",
       "      <td>0</td>\n",
       "      <td>0</td>\n",
       "      <td>0</td>\n",
       "      <td>0</td>\n",
       "    </tr>\n",
       "    <tr>\n",
       "      <th>3</th>\n",
       "      <td>0</td>\n",
       "      <td>0</td>\n",
       "      <td>0</td>\n",
       "      <td>0</td>\n",
       "    </tr>\n",
       "    <tr>\n",
       "      <th>4</th>\n",
       "      <td>0</td>\n",
       "      <td>0</td>\n",
       "      <td>0</td>\n",
       "      <td>0</td>\n",
       "    </tr>\n",
       "    <tr>\n",
       "      <th>5</th>\n",
       "      <td>0</td>\n",
       "      <td>0</td>\n",
       "      <td>0</td>\n",
       "      <td>0</td>\n",
       "    </tr>\n",
       "    <tr>\n",
       "      <th>6</th>\n",
       "      <td>0</td>\n",
       "      <td>0</td>\n",
       "      <td>0</td>\n",
       "      <td>0</td>\n",
       "    </tr>\n",
       "    <tr>\n",
       "      <th>7</th>\n",
       "      <td>0</td>\n",
       "      <td>0</td>\n",
       "      <td>0</td>\n",
       "      <td>0</td>\n",
       "    </tr>\n",
       "    <tr>\n",
       "      <th>8</th>\n",
       "      <td>0</td>\n",
       "      <td>0</td>\n",
       "      <td>0</td>\n",
       "      <td>0</td>\n",
       "    </tr>\n",
       "    <tr>\n",
       "      <th>9</th>\n",
       "      <td>0</td>\n",
       "      <td>0</td>\n",
       "      <td>0</td>\n",
       "      <td>0</td>\n",
       "    </tr>\n",
       "    <tr>\n",
       "      <th>10</th>\n",
       "      <td>0</td>\n",
       "      <td>0</td>\n",
       "      <td>0</td>\n",
       "      <td>0</td>\n",
       "    </tr>\n",
       "    <tr>\n",
       "      <th>11</th>\n",
       "      <td>0</td>\n",
       "      <td>0</td>\n",
       "      <td>0</td>\n",
       "      <td>0</td>\n",
       "    </tr>\n",
       "    <tr>\n",
       "      <th>12</th>\n",
       "      <td>0</td>\n",
       "      <td>0</td>\n",
       "      <td>0</td>\n",
       "      <td>0</td>\n",
       "    </tr>\n",
       "    <tr>\n",
       "      <th>13</th>\n",
       "      <td>0</td>\n",
       "      <td>0</td>\n",
       "      <td>0</td>\n",
       "      <td>0</td>\n",
       "    </tr>\n",
       "    <tr>\n",
       "      <th>14</th>\n",
       "      <td>0</td>\n",
       "      <td>0</td>\n",
       "      <td>0</td>\n",
       "      <td>0</td>\n",
       "    </tr>\n",
       "    <tr>\n",
       "      <th>15</th>\n",
       "      <td>0</td>\n",
       "      <td>0</td>\n",
       "      <td>0</td>\n",
       "      <td>0</td>\n",
       "    </tr>\n",
       "    <tr>\n",
       "      <th>16</th>\n",
       "      <td>0</td>\n",
       "      <td>0</td>\n",
       "      <td>0</td>\n",
       "      <td>0</td>\n",
       "    </tr>\n",
       "    <tr>\n",
       "      <th>17</th>\n",
       "      <td>0</td>\n",
       "      <td>0</td>\n",
       "      <td>0</td>\n",
       "      <td>0</td>\n",
       "    </tr>\n",
       "    <tr>\n",
       "      <th>18</th>\n",
       "      <td>0</td>\n",
       "      <td>0</td>\n",
       "      <td>0</td>\n",
       "      <td>0</td>\n",
       "    </tr>\n",
       "    <tr>\n",
       "      <th>19</th>\n",
       "      <td>1</td>\n",
       "      <td>1</td>\n",
       "      <td>1</td>\n",
       "      <td>1</td>\n",
       "    </tr>\n",
       "  </tbody>\n",
       "</table>\n",
       "</div>"
      ],
      "text/plain": [
       "    rf  knn  nn  y\n",
       "0    0    0   0  0\n",
       "1    0    0   0  0\n",
       "2    0    0   0  0\n",
       "3    0    0   0  0\n",
       "4    0    0   0  0\n",
       "5    0    0   0  0\n",
       "6    0    0   0  0\n",
       "7    0    0   0  0\n",
       "8    0    0   0  0\n",
       "9    0    0   0  0\n",
       "10   0    0   0  0\n",
       "11   0    0   0  0\n",
       "12   0    0   0  0\n",
       "13   0    0   0  0\n",
       "14   0    0   0  0\n",
       "15   0    0   0  0\n",
       "16   0    0   0  0\n",
       "17   0    0   0  0\n",
       "18   0    0   0  0\n",
       "19   1    1   1  1"
      ]
     },
     "execution_count": 80,
     "metadata": {},
     "output_type": "execute_result"
    }
   ],
   "source": [
    "stacked10_predict.head(20)"
   ]
  },
  {
   "cell_type": "markdown",
   "metadata": {},
   "source": [
    "### Final Neural Network"
   ]
  },
  {
   "cell_type": "code",
   "execution_count": 81,
   "metadata": {},
   "outputs": [],
   "source": [
    "X = stacked10_predict.drop('y', axis=1)\n",
    "y = stacked10_predict['y']\n",
    "\n",
    "X_train, X_test, y_train, y_test = train_test_split(X, y, test_size=0.2, random_state=random_seed)\n",
    "\n",
    "y_train_cat = to_categorical(y_train, num_classes=2)\n",
    "y_test_cat = to_categorical(y_test, num_classes=2)"
   ]
  },
  {
   "cell_type": "code",
   "execution_count": 82,
   "metadata": {
    "scrolled": true
   },
   "outputs": [
    {
     "name": "stdout",
     "output_type": "stream",
     "text": [
      "Train on 14318 samples, validate on 3580 samples\n",
      "Epoch 1/30\n",
      "14318/14318 [==============================] - 1s 91us/step - loss: 0.4191 - acc: 0.9922 - val_loss: 0.2502 - val_acc: 0.9832\n",
      "Epoch 2/30\n",
      "14318/14318 [==============================] - 1s 48us/step - loss: 0.1527 - acc: 0.9920 - val_loss: 0.1155 - val_acc: 0.9831\n",
      "Epoch 3/30\n",
      "14318/14318 [==============================] - 1s 46us/step - loss: 0.0667 - acc: 0.9920 - val_loss: 0.0776 - val_acc: 0.9830\n",
      "Epoch 4/30\n",
      "14318/14318 [==============================] - 1s 51us/step - loss: 0.0378 - acc: 0.9913 - val_loss: 0.0663 - val_acc: 0.9832\n",
      "Epoch 5/30\n",
      "14318/14318 [==============================] - 1s 45us/step - loss: 0.0255 - acc: 0.9911 - val_loss: 0.0626 - val_acc: 0.9832\n",
      "Epoch 6/30\n",
      "14318/14318 [==============================] - 1s 44us/step - loss: 0.0187 - acc: 0.9950 - val_loss: 0.0615 - val_acc: 0.9877\n",
      "Epoch 7/30\n",
      "14318/14318 [==============================] - 1s 43us/step - loss: 0.0145 - acc: 0.9990 - val_loss: 0.0615 - val_acc: 0.9877\n",
      "Epoch 8/30\n",
      "14318/14318 [==============================] - 1s 74us/step - loss: 0.0117 - acc: 0.9990 - val_loss: 0.0621 - val_acc: 0.9877\n",
      "Epoch 9/30\n",
      "14318/14318 [==============================] - 1s 55us/step - loss: 0.0096 - acc: 0.9994 - val_loss: 0.0629 - val_acc: 0.9874\n",
      "Epoch 10/30\n",
      "14318/14318 [==============================] - 1s 61us/step - loss: 0.0080 - acc: 1.0000 - val_loss: 0.0638 - val_acc: 0.9874\n",
      "Epoch 11/30\n",
      "14318/14318 [==============================] - 1s 61us/step - loss: 0.0069 - acc: 1.0000 - val_loss: 0.0647 - val_acc: 0.9874\n",
      "Epoch 12/30\n",
      "14318/14318 [==============================] - 1s 57us/step - loss: 0.0059 - acc: 1.0000 - val_loss: 0.0657 - val_acc: 0.9874\n",
      "Epoch 13/30\n",
      "14318/14318 [==============================] - 1s 63us/step - loss: 0.0052 - acc: 1.0000 - val_loss: 0.0667 - val_acc: 0.9874\n",
      "Epoch 14/30\n",
      "14318/14318 [==============================] - 1s 51us/step - loss: 0.0046 - acc: 1.0000 - val_loss: 0.0677 - val_acc: 0.9874\n",
      "Epoch 15/30\n",
      "14318/14318 [==============================] - 1s 54us/step - loss: 0.0041 - acc: 1.0000 - val_loss: 0.0686 - val_acc: 0.9874\n",
      "Epoch 16/30\n",
      "14318/14318 [==============================] - 1s 71us/step - loss: 0.0037 - acc: 1.0000 - val_loss: 0.0695 - val_acc: 0.9874\n",
      "Epoch 17/30\n",
      "14318/14318 [==============================] - 1s 68us/step - loss: 0.0033 - acc: 1.0000 - val_loss: 0.0704 - val_acc: 0.9874\n",
      "Epoch 18/30\n",
      "14318/14318 [==============================] - 1s 52us/step - loss: 0.0030 - acc: 1.0000 - val_loss: 0.0713 - val_acc: 0.9874\n",
      "Epoch 19/30\n",
      "14318/14318 [==============================] - 1s 42us/step - loss: 0.0027 - acc: 1.0000 - val_loss: 0.0721 - val_acc: 0.9874\n",
      "Epoch 20/30\n",
      "14318/14318 [==============================] - 1s 44us/step - loss: 0.0025 - acc: 1.0000 - val_loss: 0.0729 - val_acc: 0.9874\n",
      "Epoch 21/30\n",
      "14318/14318 [==============================] - 1s 42us/step - loss: 0.0023 - acc: 1.0000 - val_loss: 0.0737 - val_acc: 0.9874\n",
      "Epoch 22/30\n",
      "14318/14318 [==============================] - 1s 44us/step - loss: 0.0021 - acc: 1.0000 - val_loss: 0.0745 - val_acc: 0.9874\n",
      "Epoch 23/30\n",
      "14318/14318 [==============================] - 1s 44us/step - loss: 0.0020 - acc: 1.0000 - val_loss: 0.0752 - val_acc: 0.9874\n",
      "Epoch 24/30\n",
      "14318/14318 [==============================] - 1s 48us/step - loss: 0.0019 - acc: 1.0000 - val_loss: 0.0759 - val_acc: 0.9874\n",
      "Epoch 25/30\n",
      "14318/14318 [==============================] - 1s 42us/step - loss: 0.0017 - acc: 1.0000 - val_loss: 0.0766 - val_acc: 0.9874\n",
      "Epoch 26/30\n",
      "14318/14318 [==============================] - 1s 43us/step - loss: 0.0016 - acc: 1.0000 - val_loss: 0.0772 - val_acc: 0.9874\n",
      "Epoch 27/30\n",
      "14318/14318 [==============================] - 1s 42us/step - loss: 0.0015 - acc: 1.0000 - val_loss: 0.0778 - val_acc: 0.9874\n",
      "Epoch 28/30\n",
      "14318/14318 [==============================] - 1s 47us/step - loss: 0.0014 - acc: 1.0000 - val_loss: 0.0784 - val_acc: 0.9874\n",
      "Epoch 29/30\n",
      "14318/14318 [==============================] - 1s 43us/step - loss: 0.0014 - acc: 1.0000 - val_loss: 0.0790 - val_acc: 0.9874\n",
      "Epoch 30/30\n",
      "14318/14318 [==============================] - 1s 45us/step - loss: 0.0013 - acc: 1.0000 - val_loss: 0.0796 - val_acc: 0.9874\n"
     ]
    }
   ],
   "source": [
    "stacked_model = Sequential()\n",
    "stacked_model.add(Dense(20, input_dim=3, activation='relu'))\n",
    "# stacked_model.add(advanced_activations.LeakyReLU(alpha=0.2))\n",
    "stacked_model.add(Dense(20, activation='relu'))\n",
    "# stacked_model.add(advanced_activations.LeakyReLU(alpha=0.2))\n",
    "stacked_model.add(Dense(2, activation = 'sigmoid'))\n",
    "\n",
    "\n",
    "stacked_model.compile(optimizer= 'sgd', loss='binary_crossentropy', metrics=['acc'])\n",
    "final_model = stacked_model.fit(X_train, y_train_cat, batch_size=32, epochs=30, \n",
    "                      validation_data=(X_test, y_test_cat))"
   ]
  },
  {
   "cell_type": "code",
   "execution_count": 84,
   "metadata": {},
   "outputs": [
    {
     "name": "stdout",
     "output_type": "stream",
     "text": [
      "Test loss: 0.07960841338548226\n",
      "Test accuracy: 0.9874301675977654\n"
     ]
    }
   ],
   "source": [
    "score = stacked_model.evaluate(X_test, y_test_cat, verbose=0)\n",
    "print('Test loss:', score[0])\n",
    "print('Test accuracy:', score[1])"
   ]
  },
  {
   "cell_type": "code",
   "execution_count": null,
   "metadata": {},
   "outputs": [],
   "source": []
  },
  {
   "cell_type": "code",
   "execution_count": null,
   "metadata": {},
   "outputs": [],
   "source": []
  },
  {
   "cell_type": "markdown",
   "metadata": {},
   "source": [
    "# Working Zone"
   ]
  },
  {
   "cell_type": "markdown",
   "metadata": {},
   "source": [
    "Random Forest\n",
    "\n",
    "SVC\n",
    "\n",
    "Neural Network\n",
    "\n",
    "KNN\n",
    "\n"
   ]
  },
  {
   "cell_type": "markdown",
   "metadata": {},
   "source": [
    "activation - leaky relu for interior, sigmoid for end\n",
    "\n",
    "scaled data\n",
    "\n",
    "hidden layers - 2\n",
    "\n",
    "neurons in layers ~100\n",
    "\n",
    "optimizer\n",
    "\n",
    "dropout - no, too few predictors already\n",
    "\n",
    "batch size - 32 works fine, lower doesn't really improve performance\n",
    "\n",
    "epochs - usually converges by 30\n",
    "\n",
    "PCA before run\n",
    "\n",
    "Ovesampling (all the techniques)"
   ]
  },
  {
   "cell_type": "code",
   "execution_count": 45,
   "metadata": {},
   "outputs": [],
   "source": [
    "y_train_hinged = y_train.apply(lambda x: -1 if x == 0 else 1)\n",
    "y_val_hinged = y_val.apply(lambda x: -1 if x == 0 else 1)\n",
    "y_test_hinged = y_test.apply(lambda x: -1 if x == 0 else 1)\n",
    "\n",
    "y_train_hinged = y_train_hinged.values\n",
    "y_val_hinged = y_val_hinged.values\n",
    "y_test_hinged = y_test_hinged.values"
   ]
  },
  {
   "cell_type": "markdown",
   "metadata": {},
   "source": [
    "### PCA"
   ]
  },
  {
   "cell_type": "code",
   "execution_count": 156,
   "metadata": {},
   "outputs": [],
   "source": [
    "X = pulsar_df.drop('target_class', axis=1)\n",
    "y = pulsar_df['target_class']\n",
    "features = X.columns\n",
    "\n",
    "X_train, X_test, y_train, y_test = train_test_split(X, y, test_size=0.2, random_state=random_seed)\n",
    "\n",
    "scalar = StandardScaler()\n",
    "X = scalar.fit_transform(X)\n",
    "\n",
    "pca = PCA()\n",
    "principalComponents_train = pca.fit_transform(X_train)\n",
    "principalDftrain = pd.DataFrame(data=principalComponents_train)"
   ]
  },
  {
   "cell_type": "code",
   "execution_count": 157,
   "metadata": {},
   "outputs": [],
   "source": [
    "pca2 = PCA()\n",
    "principalComponents_test = pca2.fit_transform(X_test)\n",
    "principalDftest = pd.DataFrame(data=principalComponents_test)"
   ]
  },
  {
   "cell_type": "code",
   "execution_count": 158,
   "metadata": {},
   "outputs": [],
   "source": [
    "eig_values = pca.explained_variance_\n",
    "eig_vectors = pca.components_"
   ]
  },
  {
   "cell_type": "code",
   "execution_count": 159,
   "metadata": {},
   "outputs": [
    {
     "data": {
      "text/plain": [
       " Skewness of the DM-SNR curve                    105.445882\n",
       " Mean of the integrated profile                    4.212012\n",
       " Excess kurtosis of the DM-SNR curve               4.202441\n",
       " Standard deviation of the integrated profile      0.212644\n",
       " Excess kurtosis of the integrated profile        -0.252823\n",
       " Skewness of the integrated profile               -1.402322\n",
       " Mean of the DM-SNR curve                        -11.559083\n",
       " Standard deviation of the DM-SNR curve          -11.787078\n",
       "dtype: float64"
      ]
     },
     "execution_count": 159,
     "metadata": {},
     "output_type": "execute_result"
    }
   ],
   "source": [
    "structure_loading_1 = eig_vectors[0]* np.sqrt(eig_values[0])\n",
    "str_loading_1 = pd.Series(structure_loading_1, index=features)\n",
    "str_loading_1.sort_values(ascending=False)"
   ]
  },
  {
   "cell_type": "code",
   "execution_count": 160,
   "metadata": {},
   "outputs": [
    {
     "data": {
      "text/plain": [
       "Text(0, 0.5, 'proportion of explained variance')"
      ]
     },
     "execution_count": 160,
     "metadata": {},
     "output_type": "execute_result"
    },
    {
     "data": {
      "image/png": "[encoded data removed]",
      "text/plain": [
       "<Figure size 432x288 with 1 Axes>"
      ]
     },
     "metadata": {},
     "output_type": "display_data"
    }
   ],
   "source": [
    "index = np.arange(len(features))\n",
    "plt.bar(index, pca.explained_variance_ratio_)\n",
    "plt.title('Scree plot for PCA')\n",
    "plt.xlabel('Num of components')\n",
    "plt.ylabel('proportion of explained variance')"
   ]
  },
  {
   "cell_type": "code",
   "execution_count": 161,
   "metadata": {},
   "outputs": [
    {
     "data": {
      "text/plain": [
       "Text(0, 0.5, 'explained variance ratio')"
      ]
     },
     "execution_count": 161,
     "metadata": {},
     "output_type": "execute_result"
    },
    {
     "data": {
      "image/png": "[encoded data removed]",
      "text/plain": [
       "<Figure size 432x288 with 1 Axes>"
      ]
     },
     "metadata": {},
     "output_type": "display_data"
    }
   ],
   "source": [
    "plt.plot(np.cumsum(pca.explained_variance_ratio_))\n",
    "plt.xlabel('number of components')\n",
    "plt.ylabel('explained variance ratio')"
   ]
  },
  {
   "cell_type": "code",
   "execution_count": 162,
   "metadata": {},
   "outputs": [
    {
     "data": {
      "text/plain": [
       "(14318, 3)"
      ]
     },
     "execution_count": 162,
     "metadata": {},
     "output_type": "execute_result"
    }
   ],
   "source": [
    "principalDftrain.drop([3,4,5,6,7], axis=1, inplace=True)\n",
    "principalDftest.drop([3,4,5,6,7], axis=1, inplace=True)\n",
    "principalDftrain.head()\n",
    "principalDftrain.shape"
   ]
  },
  {
   "cell_type": "markdown",
   "metadata": {},
   "source": [
    "### Running Oversampled Data"
   ]
  },
  {
   "cell_type": "code",
   "execution_count": 38,
   "metadata": {},
   "outputs": [
    {
     "name": "stdout",
     "output_type": "stream",
     "text": [
      "0    16259\n",
      "1     1639\n",
      "Name: target_class, dtype: int64\n",
      "1    13028\n",
      "0    13027\n",
      "dtype: int64\n"
     ]
    }
   ],
   "source": [
    "print(y.value_counts()) #Previous original class distribution\n",
    "smote = KMeansSMOTE()\n",
    "X_train_resampled, y_train_resampled = smote.fit_sample(X_train, y_train) \n",
    "print(pd.Series(y_train_resampled).value_counts()) #Preview synthetic sample class distribution"
   ]
  },
  {
   "cell_type": "code",
   "execution_count": 24,
   "metadata": {},
   "outputs": [
    {
     "name": "stdout",
     "output_type": "stream",
     "text": [
      "0    16259\n",
      "1     1639\n",
      "Name: target_class, dtype: int64\n",
      "0    13027\n",
      "1    12968\n",
      "dtype: int64\n"
     ]
    }
   ],
   "source": [
    "print(y.value_counts()) #Previous original class distribution\n",
    "adasyn = ADASYN()\n",
    "X_train_resampled, y_train_resampled = adasyn.fit_sample(X_train, y_train) \n",
    "print(pd.Series(y_train_resampled).value_counts()) #Preview synthetic sample class distribution"
   ]
  },
  {
   "cell_type": "markdown",
   "metadata": {},
   "source": [
    "### Code Block for running raw data"
   ]
  },
  {
   "cell_type": "code",
   "execution_count": 5,
   "metadata": {},
   "outputs": [
    {
     "name": "stdout",
     "output_type": "stream",
     "text": [
      "(14318, 8) (3580, 8)\n",
      "(14318,) (3580,)\n"
     ]
    }
   ],
   "source": [
    "X = pulsar_df.drop('target_class', axis=1)\n",
    "y = pulsar_df['target_class']\n",
    "features = X.columns\n",
    "X_train, X_test, y_train, y_test = train_test_split(X, y, test_size=0.2, random_state=random_seed)\n",
    "print(X_train.shape, X_test.shape)\n",
    "print(y_train.shape, y_test.shape)"
   ]
  },
  {
   "cell_type": "code",
   "execution_count": null,
   "metadata": {},
   "outputs": [],
   "source": []
  },
  {
   "cell_type": "code",
   "execution_count": null,
   "metadata": {},
   "outputs": [],
   "source": []
  },
  {
   "cell_type": "code",
   "execution_count": null,
   "metadata": {},
   "outputs": [],
   "source": []
  }
 ],
 "metadata": {
  "kernelspec": {
   "display_name": "Python 3",
   "language": "python",
   "name": "python3"
  },
  "language_info": {
   "codemirror_mode": {
    "name": "ipython",
    "version": 3
   },
   "file_extension": ".py",
   "mimetype": "text/x-python",
   "name": "python",
   "nbconvert_exporter": "python",
   "pygments_lexer": "ipython3",
   "version": "3.7.3"
  }
 },
 "nbformat": 4,
 "nbformat_minor": 2
}
