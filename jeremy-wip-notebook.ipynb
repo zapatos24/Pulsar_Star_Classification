{
 "cells": [
  {
   "cell_type": "markdown",
   "metadata": {},
   "source": [
    "# Mod 6 Final Project"
   ]
  },
  {
   "cell_type": "markdown",
   "metadata": {},
   "source": [
    "Jeremy Owens, Bridget Boakye"
   ]
  },
  {
   "cell_type": "markdown",
   "metadata": {},
   "source": [
    "### Problem Statement:"
   ]
  },
  {
   "cell_type": "markdown",
   "metadata": {},
   "source": [
    "We need to find Pulsars, know where to focus telescopes for Pulsar analysis"
   ]
  },
  {
   "cell_type": "markdown",
   "metadata": {},
   "source": [
    "## Import"
   ]
  },
  {
   "cell_type": "code",
   "execution_count": 3,
   "metadata": {},
   "outputs": [
    {
     "name": "stderr",
     "output_type": "stream",
     "text": [
      "Using TensorFlow backend.\n"
     ]
    }
   ],
   "source": [
    "import pandas as pd\n",
    "import numpy as np\n",
    "import matplotlib.pyplot as plt\n",
    "%matplotlib inline\n",
    "import seaborn as sns\n",
    "sns.set_style('darkgrid')\n",
    "from sklearn.preprocessing import StandardScaler\n",
    "from sklearn.model_selection import train_test_split, KFold, GridSearchCV\n",
    "import keras\n",
    "from keras.models import Sequential\n",
    "from keras.layers import Dense, Dropout, advanced_activations\n",
    "from keras import initializers, regularizers\n",
    "from keras.optimizers import RMSprop, Adam, SGD\n",
    "from keras.utils.np_utils import to_categorical\n",
    "# from keras.preprocessing.text import Tokenizer\n",
    "\n",
    "from sklearn.metrics import classification_report, confusion_matrix, accuracy_score, f1_score, roc_curve, auc\n",
    "from sklearn.ensemble import RandomForestClassifier\n",
    "\n",
    "from imblearn.over_sampling import SMOTE, SVMSMOTE, KMeansSMOTE\n",
    "from imblearn.over_sampling import ADASYN\n",
    "\n",
    "from sklearn.decomposition import PCA\n",
    "\n",
    "random_seed = 123"
   ]
  },
  {
   "cell_type": "code",
   "execution_count": 4,
   "metadata": {},
   "outputs": [
    {
     "data": {
      "text/html": [
       "<div>\n",
       "<style scoped>\n",
       "    .dataframe tbody tr th:only-of-type {\n",
       "        vertical-align: middle;\n",
       "    }\n",
       "\n",
       "    .dataframe tbody tr th {\n",
       "        vertical-align: top;\n",
       "    }\n",
       "\n",
       "    .dataframe thead th {\n",
       "        text-align: right;\n",
       "    }\n",
       "</style>\n",
       "<table border=\"1\" class=\"dataframe\">\n",
       "  <thead>\n",
       "    <tr style=\"text-align: right;\">\n",
       "      <th></th>\n",
       "      <th>Mean of the integrated profile</th>\n",
       "      <th>Standard deviation of the integrated profile</th>\n",
       "      <th>Excess kurtosis of the integrated profile</th>\n",
       "      <th>Skewness of the integrated profile</th>\n",
       "      <th>Mean of the DM-SNR curve</th>\n",
       "      <th>Standard deviation of the DM-SNR curve</th>\n",
       "      <th>Excess kurtosis of the DM-SNR curve</th>\n",
       "      <th>Skewness of the DM-SNR curve</th>\n",
       "      <th>target_class</th>\n",
       "    </tr>\n",
       "  </thead>\n",
       "  <tbody>\n",
       "    <tr>\n",
       "      <th>0</th>\n",
       "      <td>140.562500</td>\n",
       "      <td>55.683782</td>\n",
       "      <td>-0.234571</td>\n",
       "      <td>-0.699648</td>\n",
       "      <td>3.199833</td>\n",
       "      <td>19.110426</td>\n",
       "      <td>7.975532</td>\n",
       "      <td>74.242225</td>\n",
       "      <td>0</td>\n",
       "    </tr>\n",
       "    <tr>\n",
       "      <th>1</th>\n",
       "      <td>102.507812</td>\n",
       "      <td>58.882430</td>\n",
       "      <td>0.465318</td>\n",
       "      <td>-0.515088</td>\n",
       "      <td>1.677258</td>\n",
       "      <td>14.860146</td>\n",
       "      <td>10.576487</td>\n",
       "      <td>127.393580</td>\n",
       "      <td>0</td>\n",
       "    </tr>\n",
       "    <tr>\n",
       "      <th>2</th>\n",
       "      <td>103.015625</td>\n",
       "      <td>39.341649</td>\n",
       "      <td>0.323328</td>\n",
       "      <td>1.051164</td>\n",
       "      <td>3.121237</td>\n",
       "      <td>21.744669</td>\n",
       "      <td>7.735822</td>\n",
       "      <td>63.171909</td>\n",
       "      <td>0</td>\n",
       "    </tr>\n",
       "    <tr>\n",
       "      <th>3</th>\n",
       "      <td>136.750000</td>\n",
       "      <td>57.178449</td>\n",
       "      <td>-0.068415</td>\n",
       "      <td>-0.636238</td>\n",
       "      <td>3.642977</td>\n",
       "      <td>20.959280</td>\n",
       "      <td>6.896499</td>\n",
       "      <td>53.593661</td>\n",
       "      <td>0</td>\n",
       "    </tr>\n",
       "    <tr>\n",
       "      <th>4</th>\n",
       "      <td>88.726562</td>\n",
       "      <td>40.672225</td>\n",
       "      <td>0.600866</td>\n",
       "      <td>1.123492</td>\n",
       "      <td>1.178930</td>\n",
       "      <td>11.468720</td>\n",
       "      <td>14.269573</td>\n",
       "      <td>252.567306</td>\n",
       "      <td>0</td>\n",
       "    </tr>\n",
       "    <tr>\n",
       "      <th>5</th>\n",
       "      <td>93.570312</td>\n",
       "      <td>46.698114</td>\n",
       "      <td>0.531905</td>\n",
       "      <td>0.416721</td>\n",
       "      <td>1.636288</td>\n",
       "      <td>14.545074</td>\n",
       "      <td>10.621748</td>\n",
       "      <td>131.394004</td>\n",
       "      <td>0</td>\n",
       "    </tr>\n",
       "    <tr>\n",
       "      <th>6</th>\n",
       "      <td>119.484375</td>\n",
       "      <td>48.765059</td>\n",
       "      <td>0.031460</td>\n",
       "      <td>-0.112168</td>\n",
       "      <td>0.999164</td>\n",
       "      <td>9.279612</td>\n",
       "      <td>19.206230</td>\n",
       "      <td>479.756567</td>\n",
       "      <td>0</td>\n",
       "    </tr>\n",
       "    <tr>\n",
       "      <th>7</th>\n",
       "      <td>130.382812</td>\n",
       "      <td>39.844056</td>\n",
       "      <td>-0.158323</td>\n",
       "      <td>0.389540</td>\n",
       "      <td>1.220736</td>\n",
       "      <td>14.378941</td>\n",
       "      <td>13.539456</td>\n",
       "      <td>198.236457</td>\n",
       "      <td>0</td>\n",
       "    </tr>\n",
       "    <tr>\n",
       "      <th>8</th>\n",
       "      <td>107.250000</td>\n",
       "      <td>52.627078</td>\n",
       "      <td>0.452688</td>\n",
       "      <td>0.170347</td>\n",
       "      <td>2.331940</td>\n",
       "      <td>14.486853</td>\n",
       "      <td>9.001004</td>\n",
       "      <td>107.972506</td>\n",
       "      <td>0</td>\n",
       "    </tr>\n",
       "    <tr>\n",
       "      <th>9</th>\n",
       "      <td>107.257812</td>\n",
       "      <td>39.496488</td>\n",
       "      <td>0.465882</td>\n",
       "      <td>1.162877</td>\n",
       "      <td>4.079431</td>\n",
       "      <td>24.980418</td>\n",
       "      <td>7.397080</td>\n",
       "      <td>57.784738</td>\n",
       "      <td>0</td>\n",
       "    </tr>\n",
       "  </tbody>\n",
       "</table>\n",
       "</div>"
      ],
      "text/plain": [
       "    Mean of the integrated profile  \\\n",
       "0                       140.562500   \n",
       "1                       102.507812   \n",
       "2                       103.015625   \n",
       "3                       136.750000   \n",
       "4                        88.726562   \n",
       "5                        93.570312   \n",
       "6                       119.484375   \n",
       "7                       130.382812   \n",
       "8                       107.250000   \n",
       "9                       107.257812   \n",
       "\n",
       "    Standard deviation of the integrated profile  \\\n",
       "0                                      55.683782   \n",
       "1                                      58.882430   \n",
       "2                                      39.341649   \n",
       "3                                      57.178449   \n",
       "4                                      40.672225   \n",
       "5                                      46.698114   \n",
       "6                                      48.765059   \n",
       "7                                      39.844056   \n",
       "8                                      52.627078   \n",
       "9                                      39.496488   \n",
       "\n",
       "    Excess kurtosis of the integrated profile  \\\n",
       "0                                   -0.234571   \n",
       "1                                    0.465318   \n",
       "2                                    0.323328   \n",
       "3                                   -0.068415   \n",
       "4                                    0.600866   \n",
       "5                                    0.531905   \n",
       "6                                    0.031460   \n",
       "7                                   -0.158323   \n",
       "8                                    0.452688   \n",
       "9                                    0.465882   \n",
       "\n",
       "    Skewness of the integrated profile   Mean of the DM-SNR curve  \\\n",
       "0                            -0.699648                   3.199833   \n",
       "1                            -0.515088                   1.677258   \n",
       "2                             1.051164                   3.121237   \n",
       "3                            -0.636238                   3.642977   \n",
       "4                             1.123492                   1.178930   \n",
       "5                             0.416721                   1.636288   \n",
       "6                            -0.112168                   0.999164   \n",
       "7                             0.389540                   1.220736   \n",
       "8                             0.170347                   2.331940   \n",
       "9                             1.162877                   4.079431   \n",
       "\n",
       "    Standard deviation of the DM-SNR curve  \\\n",
       "0                                19.110426   \n",
       "1                                14.860146   \n",
       "2                                21.744669   \n",
       "3                                20.959280   \n",
       "4                                11.468720   \n",
       "5                                14.545074   \n",
       "6                                 9.279612   \n",
       "7                                14.378941   \n",
       "8                                14.486853   \n",
       "9                                24.980418   \n",
       "\n",
       "    Excess kurtosis of the DM-SNR curve   Skewness of the DM-SNR curve  \\\n",
       "0                              7.975532                      74.242225   \n",
       "1                             10.576487                     127.393580   \n",
       "2                              7.735822                      63.171909   \n",
       "3                              6.896499                      53.593661   \n",
       "4                             14.269573                     252.567306   \n",
       "5                             10.621748                     131.394004   \n",
       "6                             19.206230                     479.756567   \n",
       "7                             13.539456                     198.236457   \n",
       "8                              9.001004                     107.972506   \n",
       "9                              7.397080                      57.784738   \n",
       "\n",
       "   target_class  \n",
       "0             0  \n",
       "1             0  \n",
       "2             0  \n",
       "3             0  \n",
       "4             0  \n",
       "5             0  \n",
       "6             0  \n",
       "7             0  \n",
       "8             0  \n",
       "9             0  "
      ]
     },
     "execution_count": 4,
     "metadata": {},
     "output_type": "execute_result"
    }
   ],
   "source": [
    "pulsar_df = pd.read_csv('pulsar_stars.csv')\n",
    "pulsar_df.head(10)"
   ]
  },
  {
   "cell_type": "code",
   "execution_count": 5,
   "metadata": {},
   "outputs": [
    {
     "name": "stdout",
     "output_type": "stream",
     "text": [
      "5.8125 192.6171875\n",
      "24.77204176 98.77891067\n",
      "-1.876011181 8.069522046\n",
      "-1.7918859809999999 68.10162173\n",
      "0.213210702 223.39214049999998\n",
      "7.370432165 110.64221059999998\n",
      "-3.1392696110000005 34.53984419\n",
      "-1.976975603 1191.0008369999998\n",
      "0 1\n"
     ]
    }
   ],
   "source": [
    "for col in pulsar_df.columns:\n",
    "    print(min(pulsar_df[col]), max(pulsar_df[col]))"
   ]
  },
  {
   "cell_type": "code",
   "execution_count": 6,
   "metadata": {},
   "outputs": [
    {
     "name": "stdout",
     "output_type": "stream",
     "text": [
      "<class 'pandas.core.frame.DataFrame'>\n",
      "RangeIndex: 17898 entries, 0 to 17897\n",
      "Data columns (total 9 columns):\n",
      " Mean of the integrated profile                  17898 non-null float64\n",
      " Standard deviation of the integrated profile    17898 non-null float64\n",
      " Excess kurtosis of the integrated profile       17898 non-null float64\n",
      " Skewness of the integrated profile              17898 non-null float64\n",
      " Mean of the DM-SNR curve                        17898 non-null float64\n",
      " Standard deviation of the DM-SNR curve          17898 non-null float64\n",
      " Excess kurtosis of the DM-SNR curve             17898 non-null float64\n",
      " Skewness of the DM-SNR curve                    17898 non-null float64\n",
      "target_class                                     17898 non-null int64\n",
      "dtypes: float64(8), int64(1)\n",
      "memory usage: 1.2 MB\n"
     ]
    }
   ],
   "source": [
    "pulsar_df.info()"
   ]
  },
  {
   "cell_type": "markdown",
   "metadata": {},
   "source": [
    "activation - leaky relu for interior, sigmoid for end\n",
    "\n",
    "hidden layers - 2\n",
    "\n",
    "neurons in layers ~50\n",
    "\n",
    "optimizer - not needed, runs plenty fast\n",
    "\n",
    "dropout - no, too few predictors already\n",
    "\n",
    "batch size - 32\n",
    "\n",
    "epochs - 15"
   ]
  },
  {
   "cell_type": "code",
   "execution_count": 7,
   "metadata": {},
   "outputs": [
    {
     "name": "stdout",
     "output_type": "stream",
     "text": [
      "(14318, 8) (3580, 8)\n",
      "(14318,) (3580,)\n"
     ]
    }
   ],
   "source": [
    "X = pulsar_df.drop('target_class', axis=1)\n",
    "y = pulsar_df['target_class']\n",
    "features = X.columns\n",
    "X_train, X_test, y_train, y_test = train_test_split(X, y, test_size=0.2, random_state=random_seed)\n",
    "print(X_train.shape, X_test.shape)\n",
    "print(y_train.shape, y_test.shape)"
   ]
  },
  {
   "cell_type": "code",
   "execution_count": 32,
   "metadata": {},
   "outputs": [
    {
     "name": "stdout",
     "output_type": "stream",
     "text": [
      "(14318, 8) (3580, 8)\n",
      "(14318,) (3580,)\n"
     ]
    }
   ],
   "source": [
    "X = pulsar_df.drop('target_class', axis=1)\n",
    "y = pulsar_df['target_class']\n",
    "features = X.columns\n",
    "\n",
    "scalar = StandardScaler()\n",
    "X_train, X_test, y_train, y_test = train_test_split(X, y, test_size=0.2, random_state=random_seed)\n",
    "# X_train, X_val, y_train, y_val = train_test_split(X_train, y_train, test_size=0.2, random_state=random_seed)  \n",
    "\n",
    "X_train = scalar.fit_transform(X_train)\n",
    "\n",
    "# scalar = StandardScaler()\n",
    "# X_val = scalar.fit_transform(X_val)\n",
    "\n",
    "scalar = StandardScaler()\n",
    "X_test = scalar.fit_transform(X_test)\n",
    "\n",
    "print(X_train.shape, X_test.shape)\n",
    "print(y_train.shape, y_test.shape)"
   ]
  },
  {
   "cell_type": "code",
   "execution_count": 38,
   "metadata": {},
   "outputs": [
    {
     "name": "stdout",
     "output_type": "stream",
     "text": [
      "0    16259\n",
      "1     1639\n",
      "Name: target_class, dtype: int64\n",
      "1    13028\n",
      "0    13027\n",
      "dtype: int64\n"
     ]
    }
   ],
   "source": [
    "print(y.value_counts()) #Previous original class distribution\n",
    "smote = KMeansSMOTE()\n",
    "X_train_resampled, y_train_resampled = smote.fit_sample(X_train, y_train) \n",
    "print(pd.Series(y_train_resampled).value_counts()) #Preview synthetic sample class distribution"
   ]
  },
  {
   "cell_type": "code",
   "execution_count": 24,
   "metadata": {},
   "outputs": [
    {
     "name": "stdout",
     "output_type": "stream",
     "text": [
      "0    16259\n",
      "1     1639\n",
      "Name: target_class, dtype: int64\n",
      "0    13027\n",
      "1    12968\n",
      "dtype: int64\n"
     ]
    }
   ],
   "source": [
    "print(y.value_counts()) #Previous original class distribution\n",
    "adasyn = ADASYN()\n",
    "X_train_resampled, y_train_resampled = adasyn.fit_sample(X_train, y_train) \n",
    "print(pd.Series(y_train_resampled).value_counts()) #Preview synthetic sample class distribution"
   ]
  },
  {
   "cell_type": "markdown",
   "metadata": {},
   "source": [
    "## Classic ML Test"
   ]
  },
  {
   "cell_type": "code",
   "execution_count": 35,
   "metadata": {},
   "outputs": [],
   "source": [
    "def grid_search_classifier(clf, param_grid, X_train, X_test, y_train, y_test, scoring='f1_weighted'):\n",
    "    grid_clf = GridSearchCV(clf, param_grid, scoring=scoring)\n",
    "    grid_clf.fit(X_train, y_train)\n",
    "\n",
    "    best_parameters = grid_clf.best_params_\n",
    "\n",
    "    print(\"Grid Search found the following optimal parameters: \")\n",
    "    for param_name in sorted(best_parameters.keys()):\n",
    "        print(\"%s: %r\" % (param_name, best_parameters[param_name]))\n",
    "\n",
    "    y_pred = grid_clf.predict(X_test)\n",
    "\n",
    "    print()\n",
    "    print(confusion_matrix(y_test, y_pred))\n",
    "    print(classification_report(y_test, y_pred))\n",
    "    print('Accuracy score:', round(accuracy_score(y_test, y_pred), 4))\n",
    "\n",
    "    cm = confusion_matrix(y_test, y_pred)\n",
    "    df_cm = pd.DataFrame(cm.astype('float') / cm.sum(axis=1)[:, np.newaxis],\n",
    "                         index=['F', 'T'],\n",
    "                         columns=['F', 'T'])\n",
    "    plt.figure(figsize=(7, 5))\n",
    "    sns.heatmap(df_cm, annot=True, cmap='Greens')\n",
    "    plt.xlabel('Pred Val')\n",
    "    plt.ylabel('True Val')\n",
    "    plt.show()\n",
    "    return grid_clf"
   ]
  },
  {
   "cell_type": "code",
   "execution_count": 36,
   "metadata": {},
   "outputs": [],
   "source": [
    "param_grid = {'max_depth': [3, 5, 10, 15],\n",
    "              'max_features': [2, 5, 8],\n",
    "              'n_estimators': [10, 25, 50, 100, 250]\n",
    "             }"
   ]
  },
  {
   "cell_type": "code",
   "execution_count": 38,
   "metadata": {},
   "outputs": [
    {
     "name": "stderr",
     "output_type": "stream",
     "text": [
      "/anaconda3/lib/python3.7/site-packages/sklearn/model_selection/_split.py:1978: FutureWarning: The default value of cv will change from 3 to 5 in version 0.22. Specify it explicitly to silence this warning.\n",
      "  warnings.warn(CV_WARNING, FutureWarning)\n"
     ]
    },
    {
     "name": "stdout",
     "output_type": "stream",
     "text": [
      "Grid Search found the following optimal parameters: \n",
      "max_depth: 10\n",
      "max_features: 8\n",
      "n_estimators: 25\n",
      "\n",
      "[[3204   28]\n",
      " [  59  289]]\n",
      "              precision    recall  f1-score   support\n",
      "\n",
      "           0       0.98      0.99      0.99      3232\n",
      "           1       0.91      0.83      0.87       348\n",
      "\n",
      "    accuracy                           0.98      3580\n",
      "   macro avg       0.95      0.91      0.93      3580\n",
      "weighted avg       0.98      0.98      0.98      3580\n",
      "\n",
      "Accuracy score: 0.9757\n"
     ]
    },
    {
     "data": {
      "image/png": "[encoded data removed]",
      "text/plain": [
       "<Figure size 504x360 with 2 Axes>"
      ]
     },
     "metadata": {
      "needs_background": "light"
     },
     "output_type": "display_data"
    }
   ],
   "source": [
    "rf_grid_clf = grid_search_classifier(RandomForestClassifier(), param_grid, X_train, X_test, y_train, y_test)"
   ]
  },
  {
   "cell_type": "markdown",
   "metadata": {},
   "source": [
    "## PCA"
   ]
  },
  {
   "cell_type": "code",
   "execution_count": 156,
   "metadata": {},
   "outputs": [],
   "source": [
    "X = pulsar_df.drop('target_class', axis=1)\n",
    "y = pulsar_df['target_class']\n",
    "features = X.columns\n",
    "\n",
    "X_train, X_test, y_train, y_test = train_test_split(X, y, test_size=0.2, random_state=random_seed)\n",
    "\n",
    "scalar = StandardScaler()\n",
    "X = scalar.fit_transform(X)\n",
    "\n",
    "pca = PCA()\n",
    "principalComponents_train = pca.fit_transform(X_train)\n",
    "principalDftrain = pd.DataFrame(data=principalComponents_train)"
   ]
  },
  {
   "cell_type": "code",
   "execution_count": 157,
   "metadata": {},
   "outputs": [],
   "source": [
    "pca2 = PCA()\n",
    "principalComponents_test = pca2.fit_transform(X_test)\n",
    "principalDftest = pd.DataFrame(data=principalComponents_test)"
   ]
  },
  {
   "cell_type": "code",
   "execution_count": 158,
   "metadata": {},
   "outputs": [],
   "source": [
    "eig_values = pca.explained_variance_\n",
    "eig_vectors = pca.components_"
   ]
  },
  {
   "cell_type": "code",
   "execution_count": 159,
   "metadata": {},
   "outputs": [
    {
     "data": {
      "text/plain": [
       " Skewness of the DM-SNR curve                    105.445882\n",
       " Mean of the integrated profile                    4.212012\n",
       " Excess kurtosis of the DM-SNR curve               4.202441\n",
       " Standard deviation of the integrated profile      0.212644\n",
       " Excess kurtosis of the integrated profile        -0.252823\n",
       " Skewness of the integrated profile               -1.402322\n",
       " Mean of the DM-SNR curve                        -11.559083\n",
       " Standard deviation of the DM-SNR curve          -11.787078\n",
       "dtype: float64"
      ]
     },
     "execution_count": 159,
     "metadata": {},
     "output_type": "execute_result"
    }
   ],
   "source": [
    "structure_loading_1 = eig_vectors[0]* np.sqrt(eig_values[0])\n",
    "str_loading_1 = pd.Series(structure_loading_1, index=features)\n",
    "str_loading_1.sort_values(ascending=False)"
   ]
  },
  {
   "cell_type": "code",
   "execution_count": 160,
   "metadata": {},
   "outputs": [
    {
     "data": {
      "text/plain": [
       "Text(0, 0.5, 'proportion of explained variance')"
      ]
     },
     "execution_count": 160,
     "metadata": {},
     "output_type": "execute_result"
    },
    {
     "data": {
      "image/png": "[encoded data removed]",
      "text/plain": [
       "<Figure size 432x288 with 1 Axes>"
      ]
     },
     "metadata": {},
     "output_type": "display_data"
    }
   ],
   "source": [
    "index = np.arange(len(features))\n",
    "plt.bar(index, pca.explained_variance_ratio_)\n",
    "plt.title('Scree plot for PCA')\n",
    "plt.xlabel('Num of components')\n",
    "plt.ylabel('proportion of explained variance')"
   ]
  },
  {
   "cell_type": "code",
   "execution_count": 161,
   "metadata": {},
   "outputs": [
    {
     "data": {
      "text/plain": [
       "Text(0, 0.5, 'explained variance ratio')"
      ]
     },
     "execution_count": 161,
     "metadata": {},
     "output_type": "execute_result"
    },
    {
     "data": {
      "image/png": "[encoded data removed]",
      "text/plain": [
       "<Figure size 432x288 with 1 Axes>"
      ]
     },
     "metadata": {},
     "output_type": "display_data"
    }
   ],
   "source": [
    "plt.plot(np.cumsum(pca.explained_variance_ratio_))\n",
    "plt.xlabel('number of components')\n",
    "plt.ylabel('explained variance ratio')"
   ]
  },
  {
   "cell_type": "code",
   "execution_count": 162,
   "metadata": {},
   "outputs": [
    {
     "data": {
      "text/plain": [
       "(14318, 3)"
      ]
     },
     "execution_count": 162,
     "metadata": {},
     "output_type": "execute_result"
    }
   ],
   "source": [
    "principalDftrain.drop([3,4,5,6,7], axis=1, inplace=True)\n",
    "principalDftest.drop([3,4,5,6,7], axis=1, inplace=True)\n",
    "principalDftrain.head()\n",
    "principalDftrain.shape"
   ]
  },
  {
   "cell_type": "markdown",
   "metadata": {},
   "source": [
    "## Baseline Model"
   ]
  },
  {
   "cell_type": "code",
   "execution_count": 21,
   "metadata": {},
   "outputs": [
    {
     "name": "stdout",
     "output_type": "stream",
     "text": [
      "(14318, 2) (3580, 2)\n"
     ]
    }
   ],
   "source": [
    "y_train_cat = to_categorical(y_train, num_classes=2)\n",
    "# y_val_cat = to_categorical(y_val, num_classes=2)\n",
    "y_test_cat = to_categorical(y_test, num_classes=2)\n",
    "print(y_train_cat.shape, y_test_cat.shape)"
   ]
  },
  {
   "cell_type": "code",
   "execution_count": 146,
   "metadata": {},
   "outputs": [],
   "source": [
    "def neural_net_accuracy(fit_model, train_x, val_x, train_y, val_y):\n",
    "    y_pred = fit_model.predict(val_x)\n",
    "    \n",
    "    pred_train = fit_model.predict(train_x).reshape(-1)\n",
    "    pred_val = y_pred.reshape(-1)  \n",
    "\n",
    "    MSE_train = np.mean((pred_train-train_y)**2)\n",
    "    MSE_val = np.mean((pred_val-val_y)**2)\n",
    "\n",
    "    print(\"MSE_train:\", MSE_train)\n",
    "    print(\"MSE_val:\", MSE_val)\n",
    "    \n",
    "    print()\n",
    "    \n",
    "    print(confusion_matrix(train_y, y_pred))\n",
    "    print(classification_report(val_y, y_pred))\n",
    "    print('Accuracy score:', round(accuracy_score(val_y, y_pred), 2))\n",
    "\n",
    "    cm = confusion_matrix(val_y, y_pred)\n",
    "    df_cm = pd.DataFrame(cm.astype('float') / cm.sum(axis=1)[:, np.newaxis],\n",
    "                         index=['F', 'T'],\n",
    "                         columns=['F', 'T'])\n",
    "    plt.figure(figsize=(7, 5))\n",
    "    sns.heatmap(df_cm, annot=True, cmap='Greens')\n",
    "    plt.xlabel('Pred Val')\n",
    "    plt.ylabel('True Val')\n",
    "    plt.show()"
   ]
  },
  {
   "cell_type": "code",
   "execution_count": 23,
   "metadata": {},
   "outputs": [
    {
     "name": "stdout",
     "output_type": "stream",
     "text": [
      "Train on 12886 samples, validate on 3222 samples\n",
      "Epoch 1/10\n",
      "12886/12886 [==============================] - 1s 45us/step - loss: 0.2596 - acc: 0.6094 - val_loss: 0.2171 - val_acc: 0.7986\n",
      "Epoch 2/10\n",
      "12886/12886 [==============================] - 0s 37us/step - loss: 0.1810 - acc: 0.8637 - val_loss: 0.1446 - val_acc: 0.9103\n",
      "Epoch 3/10\n",
      "12886/12886 [==============================] - 0s 31us/step - loss: 0.1228 - acc: 0.9225 - val_loss: 0.1017 - val_acc: 0.9336\n",
      "Epoch 4/10\n",
      "12886/12886 [==============================] - 0s 33us/step - loss: 0.0913 - acc: 0.9420 - val_loss: 0.0778 - val_acc: 0.9541\n",
      "Epoch 5/10\n",
      "12886/12886 [==============================] - 0s 30us/step - loss: 0.0722 - acc: 0.9624 - val_loss: 0.0632 - val_acc: 0.9739\n",
      "Epoch 6/10\n",
      "12886/12886 [==============================] - 0s 30us/step - loss: 0.0606 - acc: 0.9705 - val_loss: 0.0544 - val_acc: 0.9749\n",
      "Epoch 7/10\n",
      "12886/12886 [==============================] - 0s 32us/step - loss: 0.0533 - acc: 0.9714 - val_loss: 0.0485 - val_acc: 0.9742\n",
      "Epoch 8/10\n",
      "12886/12886 [==============================] - 0s 30us/step - loss: 0.0483 - acc: 0.9716 - val_loss: 0.0443 - val_acc: 0.9739\n",
      "Epoch 9/10\n",
      "12886/12886 [==============================] - 0s 31us/step - loss: 0.0446 - acc: 0.9722 - val_loss: 0.0411 - val_acc: 0.9739\n",
      "Epoch 10/10\n",
      "12886/12886 [==============================] - 0s 38us/step - loss: 0.0418 - acc: 0.9719 - val_loss: 0.0386 - val_acc: 0.9739\n"
     ]
    }
   ],
   "source": [
    "model = Sequential()\n",
    "model.add(Dense(2, activation = 'sigmoid'))\n",
    "\n",
    "model.compile(optimizer= \"sgd\", loss='mse', metrics=['acc'])\n",
    "fit_model = model.fit(X_train, y_train_cat, batch_size=32, epochs=10, validation_data=(X_val, y_val_cat))"
   ]
  },
  {
   "cell_type": "markdown",
   "metadata": {},
   "source": [
    "## Improving the Model"
   ]
  },
  {
   "cell_type": "code",
   "execution_count": 45,
   "metadata": {},
   "outputs": [],
   "source": [
    "y_train_hinged = y_train.apply(lambda x: -1 if x == 0 else 1)\n",
    "y_val_hinged = y_val.apply(lambda x: -1 if x == 0 else 1)\n",
    "y_test_hinged = y_test.apply(lambda x: -1 if x == 0 else 1)\n",
    "\n",
    "y_train_hinged = y_train_hinged.values\n",
    "y_val_hinged = y_val_hinged.values\n",
    "y_test_hinged = y_test_hinged.values"
   ]
  },
  {
   "cell_type": "code",
   "execution_count": 27,
   "metadata": {
    "scrolled": false
   },
   "outputs": [
    {
     "name": "stdout",
     "output_type": "stream",
     "text": [
      "Train on 14318 samples, validate on 3580 samples\n",
      "Epoch 1/50\n",
      "14318/14318 [==============================] - 1s 104us/step - loss: 0.0919 - acc: 0.9766 - val_loss: 0.0868 - val_acc: 0.9753\n",
      "Epoch 2/50\n",
      "14318/14318 [==============================] - 1s 56us/step - loss: 0.0669 - acc: 0.9808 - val_loss: 0.0859 - val_acc: 0.9751\n",
      "Epoch 3/50\n",
      "14318/14318 [==============================] - 1s 64us/step - loss: 0.0656 - acc: 0.9811 - val_loss: 0.0842 - val_acc: 0.9740\n",
      "Epoch 4/50\n",
      "14318/14318 [==============================] - 1s 56us/step - loss: 0.0650 - acc: 0.9815 - val_loss: 0.0825 - val_acc: 0.9765\n",
      "Epoch 5/50\n",
      "14318/14318 [==============================] - 1s 56us/step - loss: 0.0651 - acc: 0.9812 - val_loss: 0.0848 - val_acc: 0.9751\n",
      "Epoch 6/50\n",
      "14318/14318 [==============================] - 1s 58us/step - loss: 0.0645 - acc: 0.9812 - val_loss: 0.0856 - val_acc: 0.9749\n",
      "Epoch 7/50\n",
      "14318/14318 [==============================] - 1s 59us/step - loss: 0.0632 - acc: 0.9818 - val_loss: 0.0845 - val_acc: 0.9753\n",
      "Epoch 8/50\n",
      "14318/14318 [==============================] - 1s 63us/step - loss: 0.0639 - acc: 0.9815 - val_loss: 0.0811 - val_acc: 0.9757\n",
      "Epoch 9/50\n",
      "14318/14318 [==============================] - 1s 56us/step - loss: 0.0631 - acc: 0.9817 - val_loss: 0.0895 - val_acc: 0.9760\n",
      "Epoch 10/50\n",
      "14318/14318 [==============================] - 1s 60us/step - loss: 0.0634 - acc: 0.9814 - val_loss: 0.0855 - val_acc: 0.9754\n",
      "Epoch 11/50\n",
      "14318/14318 [==============================] - 1s 53us/step - loss: 0.0630 - acc: 0.9819 - val_loss: 0.0869 - val_acc: 0.9757\n",
      "Epoch 12/50\n",
      "14318/14318 [==============================] - 1s 53us/step - loss: 0.0626 - acc: 0.9819 - val_loss: 0.0863 - val_acc: 0.9758\n",
      "Epoch 13/50\n",
      "14318/14318 [==============================] - 1s 53us/step - loss: 0.0619 - acc: 0.9814 - val_loss: 0.0806 - val_acc: 0.9767\n",
      "Epoch 14/50\n",
      "14318/14318 [==============================] - 1s 58us/step - loss: 0.0627 - acc: 0.9809 - val_loss: 0.0832 - val_acc: 0.9749\n",
      "Epoch 15/50\n",
      "14318/14318 [==============================] - 1s 55us/step - loss: 0.0618 - acc: 0.9805 - val_loss: 0.0815 - val_acc: 0.9751\n",
      "Epoch 16/50\n",
      "14318/14318 [==============================] - 1s 56us/step - loss: 0.0619 - acc: 0.9812 - val_loss: 0.0801 - val_acc: 0.9757\n",
      "Epoch 17/50\n",
      "14318/14318 [==============================] - 1s 56us/step - loss: 0.0617 - acc: 0.9812 - val_loss: 0.0810 - val_acc: 0.9757\n",
      "Epoch 18/50\n",
      "14318/14318 [==============================] - 1s 54us/step - loss: 0.0616 - acc: 0.9816 - val_loss: 0.0872 - val_acc: 0.9758\n",
      "Epoch 19/50\n",
      "14318/14318 [==============================] - 1s 54us/step - loss: 0.0616 - acc: 0.9817 - val_loss: 0.0804 - val_acc: 0.9763\n",
      "Epoch 20/50\n",
      "14318/14318 [==============================] - 1s 55us/step - loss: 0.0614 - acc: 0.9820 - val_loss: 0.0833 - val_acc: 0.9765\n",
      "Epoch 21/50\n",
      "14318/14318 [==============================] - 1s 56us/step - loss: 0.0610 - acc: 0.9822 - val_loss: 0.0787 - val_acc: 0.9763\n",
      "Epoch 22/50\n",
      "14318/14318 [==============================] - 1s 53us/step - loss: 0.0613 - acc: 0.9820 - val_loss: 0.0803 - val_acc: 0.9747\n",
      "Epoch 23/50\n",
      "14318/14318 [==============================] - 1s 53us/step - loss: 0.0604 - acc: 0.9817 - val_loss: 0.0842 - val_acc: 0.9763\n",
      "Epoch 24/50\n",
      "14318/14318 [==============================] - 1s 56us/step - loss: 0.0603 - acc: 0.9822 - val_loss: 0.0808 - val_acc: 0.9757\n",
      "Epoch 25/50\n",
      "14318/14318 [==============================] - 1s 56us/step - loss: 0.0610 - acc: 0.9818 - val_loss: 0.0808 - val_acc: 0.9739\n",
      "Epoch 26/50\n",
      "14318/14318 [==============================] - 1s 60us/step - loss: 0.0602 - acc: 0.9814 - val_loss: 0.0822 - val_acc: 0.9756\n",
      "Epoch 27/50\n",
      "14318/14318 [==============================] - 1s 55us/step - loss: 0.0600 - acc: 0.9821 - val_loss: 0.0823 - val_acc: 0.9760\n",
      "Epoch 28/50\n",
      "14318/14318 [==============================] - 1s 54us/step - loss: 0.0604 - acc: 0.9814 - val_loss: 0.0806 - val_acc: 0.9760\n",
      "Epoch 29/50\n",
      "14318/14318 [==============================] - 1s 53us/step - loss: 0.0600 - acc: 0.9813 - val_loss: 0.0813 - val_acc: 0.9747\n",
      "Epoch 30/50\n",
      "14318/14318 [==============================] - 1s 56us/step - loss: 0.0601 - acc: 0.9817 - val_loss: 0.0839 - val_acc: 0.9747\n",
      "Epoch 31/50\n",
      "14318/14318 [==============================] - 1s 55us/step - loss: 0.0601 - acc: 0.9817 - val_loss: 0.0827 - val_acc: 0.9760\n",
      "Epoch 32/50\n",
      "14318/14318 [==============================] - 1s 54us/step - loss: 0.0595 - acc: 0.9819 - val_loss: 0.0829 - val_acc: 0.9764\n",
      "Epoch 33/50\n",
      "14318/14318 [==============================] - 1s 55us/step - loss: 0.0596 - acc: 0.9822 - val_loss: 0.0805 - val_acc: 0.9749\n",
      "Epoch 34/50\n",
      "14318/14318 [==============================] - 1s 55us/step - loss: 0.0595 - acc: 0.9824 - val_loss: 0.0812 - val_acc: 0.9760\n",
      "Epoch 35/50\n",
      "14318/14318 [==============================] - 1s 55us/step - loss: 0.0591 - acc: 0.9821 - val_loss: 0.0797 - val_acc: 0.9757\n",
      "Epoch 36/50\n",
      "14318/14318 [==============================] - 1s 55us/step - loss: 0.0594 - acc: 0.9810 - val_loss: 0.0804 - val_acc: 0.9761\n",
      "Epoch 37/50\n",
      "14318/14318 [==============================] - 1s 53us/step - loss: 0.0593 - acc: 0.9821 - val_loss: 0.0864 - val_acc: 0.9754\n",
      "Epoch 38/50\n",
      "14318/14318 [==============================] - 1s 55us/step - loss: 0.0590 - acc: 0.9819 - val_loss: 0.0843 - val_acc: 0.9763\n",
      "Epoch 39/50\n",
      "14318/14318 [==============================] - 1s 56us/step - loss: 0.0591 - acc: 0.9821 - val_loss: 0.0791 - val_acc: 0.9758\n",
      "Epoch 40/50\n",
      "14318/14318 [==============================] - 1s 56us/step - loss: 0.0583 - acc: 0.9822 - val_loss: 0.0804 - val_acc: 0.9753\n",
      "Epoch 41/50\n",
      "14318/14318 [==============================] - 1s 56us/step - loss: 0.0587 - acc: 0.9824 - val_loss: 0.0810 - val_acc: 0.9761\n",
      "Epoch 42/50\n",
      "14318/14318 [==============================] - 1s 54us/step - loss: 0.0585 - acc: 0.9819 - val_loss: 0.0811 - val_acc: 0.9751\n",
      "Epoch 43/50\n",
      "14318/14318 [==============================] - 1s 56us/step - loss: 0.0583 - acc: 0.9827 - val_loss: 0.0832 - val_acc: 0.9750\n",
      "Epoch 44/50\n",
      "14318/14318 [==============================] - 1s 55us/step - loss: 0.0590 - acc: 0.9823 - val_loss: 0.0802 - val_acc: 0.9744\n",
      "Epoch 45/50\n",
      "14318/14318 [==============================] - 1s 55us/step - loss: 0.0582 - acc: 0.9822 - val_loss: 0.0874 - val_acc: 0.9763\n",
      "Epoch 46/50\n",
      "14318/14318 [==============================] - 1s 55us/step - loss: 0.0583 - acc: 0.9825 - val_loss: 0.0803 - val_acc: 0.9761\n",
      "Epoch 47/50\n",
      "14318/14318 [==============================] - 1s 55us/step - loss: 0.0585 - acc: 0.9818 - val_loss: 0.0830 - val_acc: 0.9756\n",
      "Epoch 48/50\n",
      "14318/14318 [==============================] - 1s 55us/step - loss: 0.0579 - acc: 0.9823 - val_loss: 0.0820 - val_acc: 0.9761\n",
      "Epoch 49/50\n",
      "14318/14318 [==============================] - 1s 57us/step - loss: 0.0584 - acc: 0.9820 - val_loss: 0.0795 - val_acc: 0.9765\n",
      "Epoch 50/50\n",
      "14318/14318 [==============================] - 1s 57us/step - loss: 0.0572 - acc: 0.9819 - val_loss: 0.0829 - val_acc: 0.9756\n"
     ]
    }
   ],
   "source": [
    "model = Sequential()\n",
    "model.add(Dense(100, input_dim=8))\n",
    "model.add(advanced_activations.LeakyReLU(alpha=0.2))\n",
    "# model.add(Dense(30))\n",
    "# model.add(advanced_activations.LeakyReLU(alpha=0.3))\n",
    "# model.add(Dense(40))\n",
    "# model.add(advanced_activations.LeakyReLU(alpha=0.3))\n",
    "# model.add(Dense(50))\n",
    "# model.add(advanced_activations.LeakyReLU(alpha=0.3))\n",
    "# model.add(Dense(60))\n",
    "# model.add(advanced_activations.LeakyReLU(alpha=0.3))\n",
    "# model.add(Dense(70))\n",
    "# model.add(advanced_activations.LeakyReLU(alpha=0.3))\n",
    "# model.add(Dense(80))\n",
    "# model.add(advanced_activations.LeakyReLU(alpha=0.3))\n",
    "model.add(Dense(100))\n",
    "model.add(advanced_activations.LeakyReLU(alpha=0.2))\n",
    "model.add(Dense(2, activation = 'sigmoid'))\n",
    "\n",
    "\n",
    "model.compile(optimizer= 'adam', loss='binary_crossentropy', metrics=['acc'])\n",
    "fit_model = model.fit(X_train, y_train_cat, batch_size=32, epochs=50, \n",
    "                      validation_data=(X_test, y_test_cat))"
   ]
  },
  {
   "cell_type": "code",
   "execution_count": 28,
   "metadata": {},
   "outputs": [
    {
     "name": "stdout",
     "output_type": "stream",
     "text": [
      "Test loss: 0.0829379904057893\n",
      "Test accuracy: 0.975558659018085\n"
     ]
    }
   ],
   "source": [
    "score = model.evaluate(X_test, y_test_cat, verbose=0)\n",
    "print('Test loss:', score[0])\n",
    "print('Test accuracy:', score[1])"
   ]
  },
  {
   "cell_type": "code",
   "execution_count": 29,
   "metadata": {},
   "outputs": [
    {
     "name": "stdout",
     "output_type": "stream",
     "text": [
      "3580/3580 [==============================] - 0s 35us/step\n"
     ]
    },
    {
     "data": {
      "text/plain": [
       "array([[9.9922776e-01, 7.0017576e-04],\n",
       "       [9.9843466e-01, 1.4724731e-03],\n",
       "       [9.9742329e-01, 2.4379492e-03],\n",
       "       ...,\n",
       "       [1.3366342e-04, 9.9986267e-01],\n",
       "       [9.9842465e-01, 1.4879107e-03],\n",
       "       [9.9970090e-01, 3.0019879e-04]], dtype=float32)"
      ]
     },
     "metadata": {},
     "output_type": "display_data"
    }
   ],
   "source": [
    "y_pred = model.predict(X_test, batch_size=64, verbose=1)\n",
    "display(y_pred)"
   ]
  },
  {
   "cell_type": "code",
   "execution_count": 30,
   "metadata": {},
   "outputs": [
    {
     "data": {
      "text/plain": [
       "array([0, 0, 0, ..., 1, 0, 0])"
      ]
     },
     "metadata": {},
     "output_type": "display_data"
    }
   ],
   "source": [
    "y_pred_bool = np.argmax(y_pred, axis=1)\n",
    "display(y_pred_bool)"
   ]
  },
  {
   "cell_type": "code",
   "execution_count": 31,
   "metadata": {},
   "outputs": [
    {
     "name": "stdout",
     "output_type": "stream",
     "text": [
      "              precision    recall  f1-score   support\n",
      "\n",
      "           0       0.98      0.99      0.99      3232\n",
      "           1       0.89      0.85      0.87       348\n",
      "\n",
      "    accuracy                           0.98      3580\n",
      "   macro avg       0.94      0.92      0.93      3580\n",
      "weighted avg       0.97      0.98      0.98      3580\n",
      "\n"
     ]
    }
   ],
   "source": [
    "print(classification_report(y_test.values, y_pred_bool))"
   ]
  },
  {
   "cell_type": "code",
   "execution_count": null,
   "metadata": {},
   "outputs": [],
   "source": []
  }
 ],
 "metadata": {
  "kernelspec": {
   "display_name": "Python 3",
   "language": "python",
   "name": "python3"
  },
  "language_info": {
   "codemirror_mode": {
    "name": "ipython",
    "version": 3
   },
   "file_extension": ".py",
   "mimetype": "text/x-python",
   "name": "python",
   "nbconvert_exporter": "python",
   "pygments_lexer": "ipython3",
   "version": "3.7.3"
  }
 },
 "nbformat": 4,
 "nbformat_minor": 2
}
